{
 "cells": [
  {
   "cell_type": "code",
   "execution_count": 229,
   "metadata": {},
   "outputs": [],
   "source": [
    "import numpy as np\n",
    "import pandas as pd\n",
    "import seaborn as sns\n",
    "import matplotlib.pyplot as plt"
   ]
  },
  {
   "cell_type": "code",
   "execution_count": 2,
   "metadata": {},
   "outputs": [],
   "source": [
    "df = pd.read_csv('./data/houses.csv')"
   ]
  },
  {
   "cell_type": "code",
   "execution_count": 4,
   "metadata": {},
   "outputs": [
    {
     "name": "stdout",
     "output_type": "stream",
     "text": [
      "<class 'pandas.core.frame.DataFrame'>\n",
      "RangeIndex: 10082 entries, 0 to 10081\n",
      "Data columns (total 19 columns):\n",
      " #   Column               Non-Null Count  Dtype  \n",
      "---  ------               --------------  -----  \n",
      " 0   Unnamed: 0           10082 non-null  int64  \n",
      " 1   Location             10082 non-null  object \n",
      " 2   Property type        10082 non-null  object \n",
      " 3   Property subtype     10082 non-null  object \n",
      " 4   Price                9958 non-null   float64\n",
      " 5   Type of sale         10082 non-null  object \n",
      " 6   Number of bedrooms   9970 non-null   float64\n",
      " 7   Living area          7750 non-null   float64\n",
      " 8   Kitchen              9285 non-null   object \n",
      " 9   Furnished            7084 non-null   object \n",
      " 10  Open fireplace       10082 non-null  bool   \n",
      " 11  Terrace              10082 non-null  object \n",
      " 12  Terrace orientation  10082 non-null  object \n",
      " 13  Garden               10082 non-null  object \n",
      " 14  Garden orientation   10082 non-null  object \n",
      " 15  Surface area land    9970 non-null   float64\n",
      " 16  Number of facades    8523 non-null   object \n",
      " 17  Pool                 4928 non-null   object \n",
      " 18  Condition            7994 non-null   object \n",
      "dtypes: bool(1), float64(4), int64(1), object(13)\n",
      "memory usage: 1.4+ MB\n"
     ]
    }
   ],
   "source": [
    "df.info()"
   ]
  },
  {
   "cell_type": "code",
   "execution_count": 5,
   "metadata": {},
   "outputs": [
    {
     "data": {
      "text/html": [
       "<div>\n",
       "<style scoped>\n",
       "    .dataframe tbody tr th:only-of-type {\n",
       "        vertical-align: middle;\n",
       "    }\n",
       "\n",
       "    .dataframe tbody tr th {\n",
       "        vertical-align: top;\n",
       "    }\n",
       "\n",
       "    .dataframe thead th {\n",
       "        text-align: right;\n",
       "    }\n",
       "</style>\n",
       "<table border=\"1\" class=\"dataframe\">\n",
       "  <thead>\n",
       "    <tr style=\"text-align: right;\">\n",
       "      <th></th>\n",
       "      <th>Unnamed: 0</th>\n",
       "      <th>Location</th>\n",
       "      <th>Property type</th>\n",
       "      <th>Property subtype</th>\n",
       "      <th>Price</th>\n",
       "      <th>Type of sale</th>\n",
       "      <th>Number of bedrooms</th>\n",
       "      <th>Living area</th>\n",
       "      <th>Kitchen</th>\n",
       "      <th>Furnished</th>\n",
       "      <th>Open fireplace</th>\n",
       "      <th>Terrace</th>\n",
       "      <th>Terrace orientation</th>\n",
       "      <th>Garden</th>\n",
       "      <th>Garden orientation</th>\n",
       "      <th>Surface area land</th>\n",
       "      <th>Number of facades</th>\n",
       "      <th>Pool</th>\n",
       "      <th>Condition</th>\n",
       "    </tr>\n",
       "  </thead>\n",
       "  <tbody>\n",
       "    <tr>\n",
       "      <th>0</th>\n",
       "      <td>0</td>\n",
       "      <td>Verviers</td>\n",
       "      <td>HOUSE</td>\n",
       "      <td>HOUSE</td>\n",
       "      <td>296607.0</td>\n",
       "      <td>residential_sale</td>\n",
       "      <td>3.0</td>\n",
       "      <td>130.0</td>\n",
       "      <td>Unknown</td>\n",
       "      <td>False</td>\n",
       "      <td>False</td>\n",
       "      <td>True</td>\n",
       "      <td>Unknown</td>\n",
       "      <td>True</td>\n",
       "      <td>Unknown</td>\n",
       "      <td>239.0</td>\n",
       "      <td>3</td>\n",
       "      <td>NaN</td>\n",
       "      <td>AS_NEW</td>\n",
       "    </tr>\n",
       "    <tr>\n",
       "      <th>1</th>\n",
       "      <td>1</td>\n",
       "      <td>Haasdonk</td>\n",
       "      <td>HOUSE</td>\n",
       "      <td>HOUSE</td>\n",
       "      <td>560000.0</td>\n",
       "      <td>residential_sale</td>\n",
       "      <td>4.0</td>\n",
       "      <td>NaN</td>\n",
       "      <td>Unknown</td>\n",
       "      <td>NaN</td>\n",
       "      <td>False</td>\n",
       "      <td>Unknown</td>\n",
       "      <td>Unknown</td>\n",
       "      <td>Unknown</td>\n",
       "      <td>Unknown</td>\n",
       "      <td>626.0</td>\n",
       "      <td>3</td>\n",
       "      <td>NaN</td>\n",
       "      <td>AS_NEW</td>\n",
       "    </tr>\n",
       "    <tr>\n",
       "      <th>2</th>\n",
       "      <td>2</td>\n",
       "      <td>VIANE</td>\n",
       "      <td>HOUSE</td>\n",
       "      <td>HOUSE</td>\n",
       "      <td>299000.0</td>\n",
       "      <td>residential_sale</td>\n",
       "      <td>5.0</td>\n",
       "      <td>200.0</td>\n",
       "      <td>SEMI_EQUIPPED</td>\n",
       "      <td>False</td>\n",
       "      <td>False</td>\n",
       "      <td>Unknown</td>\n",
       "      <td>Unknown</td>\n",
       "      <td>Unknown</td>\n",
       "      <td>Unknown</td>\n",
       "      <td>1150.0</td>\n",
       "      <td>NaN</td>\n",
       "      <td>NaN</td>\n",
       "      <td>GOOD</td>\n",
       "    </tr>\n",
       "    <tr>\n",
       "      <th>3</th>\n",
       "      <td>3</td>\n",
       "      <td>Gerpinnes</td>\n",
       "      <td>HOUSE</td>\n",
       "      <td>HOUSE</td>\n",
       "      <td>300000.0</td>\n",
       "      <td>residential_sale</td>\n",
       "      <td>0.0</td>\n",
       "      <td>270.0</td>\n",
       "      <td>Unknown</td>\n",
       "      <td>False</td>\n",
       "      <td>False</td>\n",
       "      <td>True</td>\n",
       "      <td>SOUTH</td>\n",
       "      <td>True</td>\n",
       "      <td>SOUTH</td>\n",
       "      <td>498.0</td>\n",
       "      <td>3</td>\n",
       "      <td>False</td>\n",
       "      <td>NaN</td>\n",
       "    </tr>\n",
       "    <tr>\n",
       "      <th>4</th>\n",
       "      <td>4</td>\n",
       "      <td>Nivelles</td>\n",
       "      <td>HOUSE</td>\n",
       "      <td>HOUSE</td>\n",
       "      <td>195000.0</td>\n",
       "      <td>residential_sale</td>\n",
       "      <td>3.0</td>\n",
       "      <td>135.0</td>\n",
       "      <td>INSTALLED</td>\n",
       "      <td>False</td>\n",
       "      <td>False</td>\n",
       "      <td>True</td>\n",
       "      <td>Unknown</td>\n",
       "      <td>Unknown</td>\n",
       "      <td>Unknown</td>\n",
       "      <td>165.0</td>\n",
       "      <td>2</td>\n",
       "      <td>False</td>\n",
       "      <td>NaN</td>\n",
       "    </tr>\n",
       "  </tbody>\n",
       "</table>\n",
       "</div>"
      ],
      "text/plain": [
       "   Unnamed: 0   Location Property type Property subtype     Price  \\\n",
       "0           0   Verviers         HOUSE            HOUSE  296607.0   \n",
       "1           1   Haasdonk         HOUSE            HOUSE  560000.0   \n",
       "2           2      VIANE         HOUSE            HOUSE  299000.0   \n",
       "3           3  Gerpinnes         HOUSE            HOUSE  300000.0   \n",
       "4           4   Nivelles         HOUSE            HOUSE  195000.0   \n",
       "\n",
       "       Type of sale  Number of bedrooms  Living area        Kitchen Furnished  \\\n",
       "0  residential_sale                 3.0        130.0        Unknown     False   \n",
       "1  residential_sale                 4.0          NaN        Unknown       NaN   \n",
       "2  residential_sale                 5.0        200.0  SEMI_EQUIPPED     False   \n",
       "3  residential_sale                 0.0        270.0        Unknown     False   \n",
       "4  residential_sale                 3.0        135.0      INSTALLED     False   \n",
       "\n",
       "   Open fireplace  Terrace Terrace orientation   Garden Garden orientation  \\\n",
       "0           False     True             Unknown     True            Unknown   \n",
       "1           False  Unknown             Unknown  Unknown            Unknown   \n",
       "2           False  Unknown             Unknown  Unknown            Unknown   \n",
       "3           False     True               SOUTH     True              SOUTH   \n",
       "4           False     True             Unknown  Unknown            Unknown   \n",
       "\n",
       "   Surface area land Number of facades   Pool Condition  \n",
       "0              239.0                 3    NaN    AS_NEW  \n",
       "1              626.0                 3    NaN    AS_NEW  \n",
       "2             1150.0               NaN    NaN      GOOD  \n",
       "3              498.0                 3  False       NaN  \n",
       "4              165.0                 2  False       NaN  "
      ]
     },
     "execution_count": 5,
     "metadata": {},
     "output_type": "execute_result"
    }
   ],
   "source": [
    "df.head()"
   ]
  },
  {
   "cell_type": "code",
   "execution_count": null,
   "metadata": {},
   "outputs": [],
   "source": []
  },
  {
   "cell_type": "markdown",
   "metadata": {},
   "source": [
    "# Cleaning"
   ]
  },
  {
   "cell_type": "markdown",
   "metadata": {},
   "source": [
    "## Price cleaning"
   ]
  },
  {
   "cell_type": "code",
   "execution_count": 95,
   "metadata": {},
   "outputs": [
    {
     "data": {
      "text/plain": [
       "0"
      ]
     },
     "execution_count": 95,
     "metadata": {},
     "output_type": "execute_result"
    }
   ],
   "source": [
    "df['Price'].isna().sum()"
   ]
  },
  {
   "cell_type": "code",
   "execution_count": 96,
   "metadata": {},
   "outputs": [
    {
     "data": {
      "text/plain": [
       "0"
      ]
     },
     "execution_count": 96,
     "metadata": {},
     "output_type": "execute_result"
    }
   ],
   "source": [
    "df = df.dropna(subset=['Price'])\n",
    "df['Price'].isna().sum()"
   ]
  },
  {
   "cell_type": "code",
   "execution_count": 99,
   "metadata": {},
   "outputs": [
    {
     "data": {
      "text/plain": [
       "0"
      ]
     },
     "execution_count": 99,
     "metadata": {},
     "output_type": "execute_result"
    }
   ],
   "source": [
    "(df['Price']<100).sum()"
   ]
  },
  {
   "cell_type": "code",
   "execution_count": 100,
   "metadata": {},
   "outputs": [
    {
     "data": {
      "text/plain": [
       "<AxesSubplot:xlabel='Price', ylabel='Count'>"
      ]
     },
     "execution_count": 100,
     "metadata": {},
     "output_type": "execute_result"
    },
    {
     "data": {
      "image/png": "[encoded data removed]",
      "text/plain": [
       "<Figure size 432x288 with 1 Axes>"
      ]
     },
     "metadata": {
      "needs_background": "light"
     },
     "output_type": "display_data"
    }
   ],
   "source": [
    "sns.histplot(df[df['Price']<1000000]['Price'])"
   ]
  },
  {
   "cell_type": "code",
   "execution_count": 150,
   "metadata": {},
   "outputs": [],
   "source": [
    "df['Price_log'] = df['Price'].apply(np.log)"
   ]
  },
  {
   "cell_type": "code",
   "execution_count": null,
   "metadata": {},
   "outputs": [],
   "source": []
  },
  {
   "cell_type": "markdown",
   "metadata": {},
   "source": [
    "## Exploration of simple data frame"
   ]
  },
  {
   "cell_type": "code",
   "execution_count": 15,
   "metadata": {},
   "outputs": [
    {
     "data": {
      "text/plain": [
       "Index(['Unnamed: 0', 'Location', 'Property type', 'Property subtype', 'Price',\n",
       "       'Type of sale', 'Number of bedrooms', 'Living area', 'Kitchen',\n",
       "       'Furnished', 'Open fireplace', 'Terrace', 'Terrace orientation',\n",
       "       'Garden', 'Garden orientation', 'Surface area land',\n",
       "       'Number of facades', 'Pool', 'Condition'],\n",
       "      dtype='object')"
      ]
     },
     "execution_count": 15,
     "metadata": {},
     "output_type": "execute_result"
    }
   ],
   "source": [
    "df.columns"
   ]
  },
  {
   "cell_type": "code",
   "execution_count": 101,
   "metadata": {},
   "outputs": [],
   "source": [
    "df_simple = df[['Surface area land','Living area','Price']]"
   ]
  },
  {
   "cell_type": "code",
   "execution_count": 102,
   "metadata": {},
   "outputs": [
    {
     "data": {
      "text/plain": [
       "Surface area land       0\n",
       "Living area          2219\n",
       "Price                   0\n",
       "dtype: int64"
      ]
     },
     "execution_count": 102,
     "metadata": {},
     "output_type": "execute_result"
    }
   ],
   "source": [
    "df_simple.isna().sum()"
   ]
  },
  {
   "cell_type": "code",
   "execution_count": 103,
   "metadata": {},
   "outputs": [],
   "source": [
    "df_simple = df_simple.dropna()\n",
    "df_simple = df_simple[df_simple['Surface area land'] >1]"
   ]
  },
  {
   "cell_type": "code",
   "execution_count": 104,
   "metadata": {},
   "outputs": [
    {
     "name": "stdout",
     "output_type": "stream",
     "text": [
      "<class 'pandas.core.frame.DataFrame'>\n",
      "Int64Index: 6987 entries, 0 to 10080\n",
      "Data columns (total 3 columns):\n",
      " #   Column             Non-Null Count  Dtype  \n",
      "---  ------             --------------  -----  \n",
      " 0   Surface area land  6987 non-null   float64\n",
      " 1   Living area        6987 non-null   float64\n",
      " 2   Price              6987 non-null   float64\n",
      "dtypes: float64(3)\n",
      "memory usage: 218.3 KB\n"
     ]
    }
   ],
   "source": [
    "df_simple.info()"
   ]
  },
  {
   "cell_type": "code",
   "execution_count": 105,
   "metadata": {},
   "outputs": [
    {
     "data": {
      "text/plain": [
       "<seaborn.axisgrid.PairGrid at 0x141b6abb0>"
      ]
     },
     "execution_count": 105,
     "metadata": {},
     "output_type": "execute_result"
    },
    {
     "data": {
      "image/png": "[encoded data removed]",
      "text/plain": [
       "<Figure size 540x540 with 12 Axes>"
      ]
     },
     "metadata": {
      "needs_background": "light"
     },
     "output_type": "display_data"
    }
   ],
   "source": [
    "# sns.pairplot(df_simple)"
   ]
  },
  {
   "cell_type": "code",
   "execution_count": 106,
   "metadata": {},
   "outputs": [
    {
     "name": "stderr",
     "output_type": "stream",
     "text": [
      "/Users/wvdvijve/.pyenv/versions/3.8.8/lib/python3.8/site-packages/seaborn/_decorators.py:36: FutureWarning: Pass the following variable as a keyword arg: x. From version 0.12, the only valid positional argument will be `data`, and passing other arguments without an explicit keyword will result in an error or misinterpretation.\n",
      "  warnings.warn(\n"
     ]
    },
    {
     "data": {
      "text/plain": [
       "<AxesSubplot:xlabel='Surface area land'>"
      ]
     },
     "execution_count": 106,
     "metadata": {},
     "output_type": "execute_result"
    },
    {
     "data": {
      "image/png": "[encoded data removed]",
      "text/plain": [
       "<Figure size 432x288 with 1 Axes>"
      ]
     },
     "metadata": {
      "needs_background": "light"
     },
     "output_type": "display_data"
    }
   ],
   "source": [
    "# sns.boxplot(df_simple['Surface area land'])"
   ]
  },
  {
   "cell_type": "code",
   "execution_count": 61,
   "metadata": {},
   "outputs": [
    {
     "data": {
      "text/plain": [
       "<seaborn.axisgrid.PairGrid at 0x13e21ccd0>"
      ]
     },
     "execution_count": 61,
     "metadata": {},
     "output_type": "execute_result"
    },
    {
     "data": {
      "image/png": "[encoded data removed]",
      "text/plain": [
       "<Figure size 540x540 with 12 Axes>"
      ]
     },
     "metadata": {
      "needs_background": "light"
     },
     "output_type": "display_data"
    }
   ],
   "source": [
    "# sns.pairplot(df_simple[df_simple['Surface area land']<20000])"
   ]
  },
  {
   "cell_type": "code",
   "execution_count": 108,
   "metadata": {},
   "outputs": [],
   "source": [
    "df_simple['Surface_log'] = df_simple['Surface area land'].apply(np.log)\n",
    "df_simple['Living_log'] = df_simple['Living area'].apply(np.log)\n",
    "df_simple['Price_log'] = df_simple['Price'].apply(np.log)"
   ]
  },
  {
   "cell_type": "code",
   "execution_count": 110,
   "metadata": {},
   "outputs": [
    {
     "data": {
      "text/plain": [
       "Index(['Surface area land', 'Living area', 'Price', 'Surface_log',\n",
       "       'Living_log', 'Price_log'],\n",
       "      dtype='object')"
      ]
     },
     "execution_count": 110,
     "metadata": {},
     "output_type": "execute_result"
    }
   ],
   "source": [
    "df_simple.columns"
   ]
  },
  {
   "cell_type": "code",
   "execution_count": 111,
   "metadata": {},
   "outputs": [
    {
     "data": {
      "text/plain": [
       "<seaborn.axisgrid.PairGrid at 0x141aafc40>"
      ]
     },
     "execution_count": 111,
     "metadata": {},
     "output_type": "execute_result"
    },
    {
     "data": {
      "image/png": "[encoded data removed]",
      "text/plain": [
       "<Figure size 540x540 with 12 Axes>"
      ]
     },
     "metadata": {
      "needs_background": "light"
     },
     "output_type": "display_data"
    }
   ],
   "source": [
    "sns.pairplot(df_simple[['Surface_log', 'Living_log',  'Price_log']])"
   ]
  },
  {
   "cell_type": "code",
   "execution_count": 123,
   "metadata": {},
   "outputs": [
    {
     "data": {
      "text/html": [
       "<div>\n",
       "<style scoped>\n",
       "    .dataframe tbody tr th:only-of-type {\n",
       "        vertical-align: middle;\n",
       "    }\n",
       "\n",
       "    .dataframe tbody tr th {\n",
       "        vertical-align: top;\n",
       "    }\n",
       "\n",
       "    .dataframe thead th {\n",
       "        text-align: right;\n",
       "    }\n",
       "</style>\n",
       "<table border=\"1\" class=\"dataframe\">\n",
       "  <thead>\n",
       "    <tr style=\"text-align: right;\">\n",
       "      <th></th>\n",
       "      <th>Surface_log</th>\n",
       "      <th>Living_log</th>\n",
       "      <th>Price_log</th>\n",
       "    </tr>\n",
       "  </thead>\n",
       "  <tbody>\n",
       "    <tr>\n",
       "      <th>Surface_log</th>\n",
       "      <td>1.000000</td>\n",
       "      <td>0.418617</td>\n",
       "      <td>0.397156</td>\n",
       "    </tr>\n",
       "    <tr>\n",
       "      <th>Living_log</th>\n",
       "      <td>0.418617</td>\n",
       "      <td>1.000000</td>\n",
       "      <td>0.669374</td>\n",
       "    </tr>\n",
       "    <tr>\n",
       "      <th>Price_log</th>\n",
       "      <td>0.397156</td>\n",
       "      <td>0.669374</td>\n",
       "      <td>1.000000</td>\n",
       "    </tr>\n",
       "  </tbody>\n",
       "</table>\n",
       "</div>"
      ],
      "text/plain": [
       "             Surface_log  Living_log  Price_log\n",
       "Surface_log     1.000000    0.418617   0.397156\n",
       "Living_log      0.418617    1.000000   0.669374\n",
       "Price_log       0.397156    0.669374   1.000000"
      ]
     },
     "execution_count": 123,
     "metadata": {},
     "output_type": "execute_result"
    }
   ],
   "source": [
    "df_simple[['Surface_log', 'Living_log',  'Price_log']].corr()"
   ]
  },
  {
   "cell_type": "markdown",
   "metadata": {},
   "source": [
    "### Naive linear model"
   ]
  },
  {
   "cell_type": "code",
   "execution_count": 116,
   "metadata": {},
   "outputs": [],
   "source": [
    "X = df_simple[[ 'Surface area land', 'Living area']]\n",
    "X_log = df_simple[['Surface_log', 'Living area']]\n",
    "X_double_log = df_simple[['Surface_log', 'Living_log']]\n",
    "y = df_simple['Price']\n",
    "y_log = df_simple['Price_log']"
   ]
  },
  {
   "cell_type": "code",
   "execution_count": 113,
   "metadata": {},
   "outputs": [
    {
     "data": {
      "text/plain": [
       "2.302585092994046"
      ]
     },
     "execution_count": 113,
     "metadata": {},
     "output_type": "execute_result"
    }
   ],
   "source": [
    "np.log"
   ]
  },
  {
   "cell_type": "code",
   "execution_count": 66,
   "metadata": {},
   "outputs": [],
   "source": [
    "from sklearn.model_selection import train_test_split\n",
    "\n",
    "\n",
    "\n",
    "def easy_modeler(X, y , model):\n",
    "    X_train, X_test, y_train, y_test = train_test_split(X, y, train_size=0.8)\n",
    "    this_model = model()\n",
    "    this_model.fit(X_train, y_train)\n",
    "\n",
    "    train_score =this_model.score(X_train, y_train)\n",
    "    test_score =this_model.score(X_test, y_test)\n",
    "\n",
    "    print(f'The train score is {train_score}')\n",
    "    print(f'The test score is {test_score}')\n"
   ]
  },
  {
   "cell_type": "code",
   "execution_count": 89,
   "metadata": {},
   "outputs": [
    {
     "name": "stdout",
     "output_type": "stream",
     "text": [
      "The train score is 0.25686334815642997\n",
      "The test score is 0.11364231474742648\n"
     ]
    }
   ],
   "source": [
    "easy_modeler(X,y, LinearRegression)"
   ]
  },
  {
   "cell_type": "code",
   "execution_count": 90,
   "metadata": {},
   "outputs": [
    {
     "name": "stdout",
     "output_type": "stream",
     "text": [
      "The train score is 0.2944758917163226\n",
      "The test score is 0.3341018664540255\n"
     ]
    }
   ],
   "source": [
    "easy_modeler(X_log, y, LinearRegression)"
   ]
  },
  {
   "cell_type": "code",
   "execution_count": 124,
   "metadata": {},
   "outputs": [
    {
     "name": "stdout",
     "output_type": "stream",
     "text": [
      "The train score is 0.45856624526829337\n",
      "The test score is 0.48874420348786396\n"
     ]
    }
   ],
   "source": [
    "easy_modeler(X_double_log, y_log , LinearRegression)"
   ]
  },
  {
   "cell_type": "code",
   "execution_count": 119,
   "metadata": {},
   "outputs": [
    {
     "name": "stdout",
     "output_type": "stream",
     "text": [
      "The train score is 0.9175294569653237\n",
      "The test score is 0.3774340075268413\n"
     ]
    }
   ],
   "source": [
    "from sklearn.ensemble import RandomForestRegressor\n",
    "\n",
    "easy_modeler(X, y, RandomForestRegressor)"
   ]
  },
  {
   "cell_type": "code",
   "execution_count": 118,
   "metadata": {},
   "outputs": [
    {
     "name": "stdout",
     "output_type": "stream",
     "text": [
      "The train score is 0.9012912040129657\n",
      "The test score is 0.46533164530809834\n"
     ]
    }
   ],
   "source": [
    "easy_modeler(X_double_log, y_log, RandomForestRegressor)"
   ]
  },
  {
   "cell_type": "code",
   "execution_count": 120,
   "metadata": {},
   "outputs": [
    {
     "name": "stdout",
     "output_type": "stream",
     "text": [
      "The train score is 0.9127446880364359\n",
      "The test score is 0.5069091081780266\n"
     ]
    }
   ],
   "source": [
    "easy_modeler(X_double_log, y, RandomForestRegressor)"
   ]
  },
  {
   "cell_type": "code",
   "execution_count": 121,
   "metadata": {},
   "outputs": [
    {
     "name": "stdout",
     "output_type": "stream",
     "text": [
      "The train score is -0.05715584602885482\n",
      "The test score is -0.04932135769131518\n"
     ]
    }
   ],
   "source": [
    "from sklearn.svm import SVR\n",
    "\n",
    "easy_modeler(X, y, SVR)"
   ]
  },
  {
   "cell_type": "code",
   "execution_count": 122,
   "metadata": {},
   "outputs": [
    {
     "name": "stdout",
     "output_type": "stream",
     "text": [
      "The train score is 0.4982969073698277\n",
      "The test score is 0.4727976848986897\n"
     ]
    }
   ],
   "source": [
    "easy_modeler(X_double_log, y_log, SVR)"
   ]
  },
  {
   "cell_type": "code",
   "execution_count": null,
   "metadata": {},
   "outputs": [],
   "source": []
  },
  {
   "cell_type": "markdown",
   "metadata": {},
   "source": [
    "## Exploration of number of bedrooms"
   ]
  },
  {
   "cell_type": "code",
   "execution_count": 126,
   "metadata": {},
   "outputs": [
    {
     "data": {
      "text/plain": [
       "Index(['Unnamed: 0', 'Location', 'Property type', 'Property subtype', 'Price',\n",
       "       'Type of sale', 'Number of bedrooms', 'Living area', 'Kitchen',\n",
       "       'Furnished', 'Open fireplace', 'Terrace', 'Terrace orientation',\n",
       "       'Garden', 'Garden orientation', 'Surface area land',\n",
       "       'Number of facades', 'Pool', 'Condition'],\n",
       "      dtype='object')"
      ]
     },
     "execution_count": 126,
     "metadata": {},
     "output_type": "execute_result"
    }
   ],
   "source": [
    "df.columns"
   ]
  },
  {
   "cell_type": "code",
   "execution_count": 163,
   "metadata": {},
   "outputs": [],
   "source": [
    "df_bedrooms = df[['Number of bedrooms', 'Price', 'Price_log']]"
   ]
  },
  {
   "cell_type": "code",
   "execution_count": 165,
   "metadata": {},
   "outputs": [
    {
     "data": {
      "text/plain": [
       "Number of bedrooms    0\n",
       "Price                 0\n",
       "Price_log             0\n",
       "dtype: int64"
      ]
     },
     "execution_count": 165,
     "metadata": {},
     "output_type": "execute_result"
    }
   ],
   "source": [
    "df_bedrooms.isna().sum()"
   ]
  },
  {
   "cell_type": "code",
   "execution_count": 172,
   "metadata": {},
   "outputs": [
    {
     "data": {
      "text/plain": [
       "9958"
      ]
     },
     "execution_count": 172,
     "metadata": {},
     "output_type": "execute_result"
    }
   ],
   "source": []
  },
  {
   "cell_type": "code",
   "execution_count": 185,
   "metadata": {},
   "outputs": [],
   "source": [
    "\n",
    "df_bedrooms = df_bedrooms[(df_bedrooms['Number of bedrooms']<40)]\n",
    "df_bedrooms = df_bedrooms[df_bedrooms['Number of bedrooms']>=1]"
   ]
  },
  {
   "cell_type": "code",
   "execution_count": 186,
   "metadata": {},
   "outputs": [
    {
     "data": {
      "text/plain": [
       "<AxesSubplot:xlabel='Number of bedrooms', ylabel='Price'>"
      ]
     },
     "execution_count": 186,
     "metadata": {},
     "output_type": "execute_result"
    },
    {
     "data": {
      "image/png": "[encoded data removed]",
      "text/plain": [
       "<Figure size 432x288 with 1 Axes>"
      ]
     },
     "metadata": {
      "needs_background": "light"
     },
     "output_type": "display_data"
    }
   ],
   "source": [
    "sns.barplot(data=df_bedrooms, x='Number of bedrooms', y='Price')"
   ]
  },
  {
   "cell_type": "code",
   "execution_count": 187,
   "metadata": {},
   "outputs": [
    {
     "data": {
      "text/html": [
       "<div>\n",
       "<style scoped>\n",
       "    .dataframe tbody tr th:only-of-type {\n",
       "        vertical-align: middle;\n",
       "    }\n",
       "\n",
       "    .dataframe tbody tr th {\n",
       "        vertical-align: top;\n",
       "    }\n",
       "\n",
       "    .dataframe thead th {\n",
       "        text-align: right;\n",
       "    }\n",
       "</style>\n",
       "<table border=\"1\" class=\"dataframe\">\n",
       "  <thead>\n",
       "    <tr style=\"text-align: right;\">\n",
       "      <th></th>\n",
       "      <th>Number of bedrooms</th>\n",
       "      <th>Price</th>\n",
       "      <th>Price_log</th>\n",
       "    </tr>\n",
       "  </thead>\n",
       "  <tbody>\n",
       "    <tr>\n",
       "      <th>count</th>\n",
       "      <td>9749.000000</td>\n",
       "      <td>9.749000e+03</td>\n",
       "      <td>9749.000000</td>\n",
       "    </tr>\n",
       "    <tr>\n",
       "      <th>mean</th>\n",
       "      <td>3.534414</td>\n",
       "      <td>3.913240e+05</td>\n",
       "      <td>12.673016</td>\n",
       "    </tr>\n",
       "    <tr>\n",
       "      <th>std</th>\n",
       "      <td>1.659076</td>\n",
       "      <td>3.333420e+05</td>\n",
       "      <td>0.616469</td>\n",
       "    </tr>\n",
       "    <tr>\n",
       "      <th>min</th>\n",
       "      <td>1.000000</td>\n",
       "      <td>2.500000e+03</td>\n",
       "      <td>7.824046</td>\n",
       "    </tr>\n",
       "    <tr>\n",
       "      <th>25%</th>\n",
       "      <td>3.000000</td>\n",
       "      <td>2.250000e+05</td>\n",
       "      <td>12.323856</td>\n",
       "    </tr>\n",
       "    <tr>\n",
       "      <th>50%</th>\n",
       "      <td>3.000000</td>\n",
       "      <td>3.195000e+05</td>\n",
       "      <td>12.674513</td>\n",
       "    </tr>\n",
       "    <tr>\n",
       "      <th>75%</th>\n",
       "      <td>4.000000</td>\n",
       "      <td>4.400000e+05</td>\n",
       "      <td>12.994530</td>\n",
       "    </tr>\n",
       "    <tr>\n",
       "      <th>max</th>\n",
       "      <td>32.000000</td>\n",
       "      <td>6.650000e+06</td>\n",
       "      <td>15.710127</td>\n",
       "    </tr>\n",
       "  </tbody>\n",
       "</table>\n",
       "</div>"
      ],
      "text/plain": [
       "       Number of bedrooms         Price    Price_log\n",
       "count         9749.000000  9.749000e+03  9749.000000\n",
       "mean             3.534414  3.913240e+05    12.673016\n",
       "std              1.659076  3.333420e+05     0.616469\n",
       "min              1.000000  2.500000e+03     7.824046\n",
       "25%              3.000000  2.250000e+05    12.323856\n",
       "50%              3.000000  3.195000e+05    12.674513\n",
       "75%              4.000000  4.400000e+05    12.994530\n",
       "max             32.000000  6.650000e+06    15.710127"
      ]
     },
     "execution_count": 187,
     "metadata": {},
     "output_type": "execute_result"
    }
   ],
   "source": [
    "df_bedrooms.describe()"
   ]
  },
  {
   "cell_type": "code",
   "execution_count": 159,
   "metadata": {},
   "outputs": [
    {
     "data": {
      "text/html": [
       "<div>\n",
       "<style scoped>\n",
       "    .dataframe tbody tr th:only-of-type {\n",
       "        vertical-align: middle;\n",
       "    }\n",
       "\n",
       "    .dataframe tbody tr th {\n",
       "        vertical-align: top;\n",
       "    }\n",
       "\n",
       "    .dataframe thead th {\n",
       "        text-align: right;\n",
       "    }\n",
       "</style>\n",
       "<table border=\"1\" class=\"dataframe\">\n",
       "  <thead>\n",
       "    <tr style=\"text-align: right;\">\n",
       "      <th></th>\n",
       "      <th>Unnamed: 0</th>\n",
       "      <th>Location</th>\n",
       "      <th>Property type</th>\n",
       "      <th>Property subtype</th>\n",
       "      <th>Price</th>\n",
       "      <th>Type of sale</th>\n",
       "      <th>Number of bedrooms</th>\n",
       "      <th>Living area</th>\n",
       "      <th>Kitchen</th>\n",
       "      <th>Furnished</th>\n",
       "      <th>Open fireplace</th>\n",
       "      <th>Terrace</th>\n",
       "      <th>Terrace orientation</th>\n",
       "      <th>Garden</th>\n",
       "      <th>Garden orientation</th>\n",
       "      <th>Surface area land</th>\n",
       "      <th>Number of facades</th>\n",
       "      <th>Pool</th>\n",
       "      <th>Condition</th>\n",
       "      <th>Price_log</th>\n",
       "    </tr>\n",
       "  </thead>\n",
       "  <tbody>\n",
       "    <tr>\n",
       "      <th>3</th>\n",
       "      <td>3</td>\n",
       "      <td>Gerpinnes</td>\n",
       "      <td>HOUSE</td>\n",
       "      <td>HOUSE</td>\n",
       "      <td>300000.0</td>\n",
       "      <td>residential_sale</td>\n",
       "      <td>0.0</td>\n",
       "      <td>270.0</td>\n",
       "      <td>Unknown</td>\n",
       "      <td>False</td>\n",
       "      <td>False</td>\n",
       "      <td>True</td>\n",
       "      <td>SOUTH</td>\n",
       "      <td>True</td>\n",
       "      <td>SOUTH</td>\n",
       "      <td>498.0</td>\n",
       "      <td>3</td>\n",
       "      <td>False</td>\n",
       "      <td>NaN</td>\n",
       "      <td>12.611538</td>\n",
       "    </tr>\n",
       "    <tr>\n",
       "      <th>59</th>\n",
       "      <td>59</td>\n",
       "      <td>Liège</td>\n",
       "      <td>HOUSE</td>\n",
       "      <td>APARTMENT_BLOCK</td>\n",
       "      <td>1550000.0</td>\n",
       "      <td>residential_sale</td>\n",
       "      <td>0.0</td>\n",
       "      <td>500.0</td>\n",
       "      <td>INSTALLED</td>\n",
       "      <td>False</td>\n",
       "      <td>False</td>\n",
       "      <td>True</td>\n",
       "      <td>Unknown</td>\n",
       "      <td>Unknown</td>\n",
       "      <td>Unknown</td>\n",
       "      <td>0.0</td>\n",
       "      <td>2</td>\n",
       "      <td>NaN</td>\n",
       "      <td>AS_NEW</td>\n",
       "      <td>14.253765</td>\n",
       "    </tr>\n",
       "    <tr>\n",
       "      <th>76</th>\n",
       "      <td>76</td>\n",
       "      <td>Zeebrugge</td>\n",
       "      <td>HOUSE</td>\n",
       "      <td>HOUSE</td>\n",
       "      <td>388000.0</td>\n",
       "      <td>residential_sale</td>\n",
       "      <td>0.0</td>\n",
       "      <td>NaN</td>\n",
       "      <td>Unknown</td>\n",
       "      <td>False</td>\n",
       "      <td>False</td>\n",
       "      <td>Unknown</td>\n",
       "      <td>Unknown</td>\n",
       "      <td>Unknown</td>\n",
       "      <td>Unknown</td>\n",
       "      <td>0.0</td>\n",
       "      <td>2</td>\n",
       "      <td>False</td>\n",
       "      <td>NaN</td>\n",
       "      <td>12.868761</td>\n",
       "    </tr>\n",
       "    <tr>\n",
       "      <th>144</th>\n",
       "      <td>144</td>\n",
       "      <td>Attert (Heinstert</td>\n",
       "      <td>HOUSE</td>\n",
       "      <td>FARMHOUSE</td>\n",
       "      <td>950000.0</td>\n",
       "      <td>residential_sale</td>\n",
       "      <td>0.0</td>\n",
       "      <td>250.0</td>\n",
       "      <td>Unknown</td>\n",
       "      <td>True</td>\n",
       "      <td>False</td>\n",
       "      <td>Unknown</td>\n",
       "      <td>Unknown</td>\n",
       "      <td>Unknown</td>\n",
       "      <td>Unknown</td>\n",
       "      <td>78987.0</td>\n",
       "      <td>4</td>\n",
       "      <td>False</td>\n",
       "      <td>NaN</td>\n",
       "      <td>13.764217</td>\n",
       "    </tr>\n",
       "    <tr>\n",
       "      <th>395</th>\n",
       "      <td>395</td>\n",
       "      <td>SINT-JANS-MOLENBEEK</td>\n",
       "      <td>HOUSE</td>\n",
       "      <td>MIXED_USE_BUILDING</td>\n",
       "      <td>795000.0</td>\n",
       "      <td>residential_sale</td>\n",
       "      <td>0.0</td>\n",
       "      <td>650.0</td>\n",
       "      <td>SEMI_EQUIPPED</td>\n",
       "      <td>False</td>\n",
       "      <td>False</td>\n",
       "      <td>Unknown</td>\n",
       "      <td>Unknown</td>\n",
       "      <td>Unknown</td>\n",
       "      <td>Unknown</td>\n",
       "      <td>650.0</td>\n",
       "      <td>3</td>\n",
       "      <td>NaN</td>\n",
       "      <td>GOOD</td>\n",
       "      <td>13.586097</td>\n",
       "    </tr>\n",
       "    <tr>\n",
       "      <th>...</th>\n",
       "      <td>...</td>\n",
       "      <td>...</td>\n",
       "      <td>...</td>\n",
       "      <td>...</td>\n",
       "      <td>...</td>\n",
       "      <td>...</td>\n",
       "      <td>...</td>\n",
       "      <td>...</td>\n",
       "      <td>...</td>\n",
       "      <td>...</td>\n",
       "      <td>...</td>\n",
       "      <td>...</td>\n",
       "      <td>...</td>\n",
       "      <td>...</td>\n",
       "      <td>...</td>\n",
       "      <td>...</td>\n",
       "      <td>...</td>\n",
       "      <td>...</td>\n",
       "      <td>...</td>\n",
       "      <td>...</td>\n",
       "    </tr>\n",
       "    <tr>\n",
       "      <th>9944</th>\n",
       "      <td>9944</td>\n",
       "      <td>Oudenaarde</td>\n",
       "      <td>HOUSE</td>\n",
       "      <td>APARTMENT_BLOCK</td>\n",
       "      <td>439500.0</td>\n",
       "      <td>residential_sale</td>\n",
       "      <td>0.0</td>\n",
       "      <td>180.0</td>\n",
       "      <td>INSTALLED</td>\n",
       "      <td>False</td>\n",
       "      <td>False</td>\n",
       "      <td>Unknown</td>\n",
       "      <td>Unknown</td>\n",
       "      <td>Unknown</td>\n",
       "      <td>Unknown</td>\n",
       "      <td>60.0</td>\n",
       "      <td>2</td>\n",
       "      <td>False</td>\n",
       "      <td>AS_NEW</td>\n",
       "      <td>12.993393</td>\n",
       "    </tr>\n",
       "    <tr>\n",
       "      <th>9973</th>\n",
       "      <td>9973</td>\n",
       "      <td>Oudenaarde</td>\n",
       "      <td>HOUSE</td>\n",
       "      <td>APARTMENT_BLOCK</td>\n",
       "      <td>439500.0</td>\n",
       "      <td>residential_sale</td>\n",
       "      <td>0.0</td>\n",
       "      <td>180.0</td>\n",
       "      <td>INSTALLED</td>\n",
       "      <td>False</td>\n",
       "      <td>False</td>\n",
       "      <td>Unknown</td>\n",
       "      <td>Unknown</td>\n",
       "      <td>Unknown</td>\n",
       "      <td>Unknown</td>\n",
       "      <td>60.0</td>\n",
       "      <td>2</td>\n",
       "      <td>False</td>\n",
       "      <td>AS_NEW</td>\n",
       "      <td>12.993393</td>\n",
       "    </tr>\n",
       "    <tr>\n",
       "      <th>10002</th>\n",
       "      <td>10002</td>\n",
       "      <td>Oudenaarde</td>\n",
       "      <td>HOUSE</td>\n",
       "      <td>APARTMENT_BLOCK</td>\n",
       "      <td>439500.0</td>\n",
       "      <td>residential_sale</td>\n",
       "      <td>0.0</td>\n",
       "      <td>180.0</td>\n",
       "      <td>INSTALLED</td>\n",
       "      <td>False</td>\n",
       "      <td>False</td>\n",
       "      <td>Unknown</td>\n",
       "      <td>Unknown</td>\n",
       "      <td>Unknown</td>\n",
       "      <td>Unknown</td>\n",
       "      <td>60.0</td>\n",
       "      <td>2</td>\n",
       "      <td>False</td>\n",
       "      <td>AS_NEW</td>\n",
       "      <td>12.993393</td>\n",
       "    </tr>\n",
       "    <tr>\n",
       "      <th>10035</th>\n",
       "      <td>10035</td>\n",
       "      <td>Oudenaarde</td>\n",
       "      <td>HOUSE</td>\n",
       "      <td>APARTMENT_BLOCK</td>\n",
       "      <td>439500.0</td>\n",
       "      <td>residential_sale</td>\n",
       "      <td>0.0</td>\n",
       "      <td>180.0</td>\n",
       "      <td>INSTALLED</td>\n",
       "      <td>False</td>\n",
       "      <td>False</td>\n",
       "      <td>Unknown</td>\n",
       "      <td>Unknown</td>\n",
       "      <td>Unknown</td>\n",
       "      <td>Unknown</td>\n",
       "      <td>60.0</td>\n",
       "      <td>2</td>\n",
       "      <td>False</td>\n",
       "      <td>AS_NEW</td>\n",
       "      <td>12.993393</td>\n",
       "    </tr>\n",
       "    <tr>\n",
       "      <th>10065</th>\n",
       "      <td>10065</td>\n",
       "      <td>Oudenaarde</td>\n",
       "      <td>HOUSE</td>\n",
       "      <td>APARTMENT_BLOCK</td>\n",
       "      <td>439500.0</td>\n",
       "      <td>residential_sale</td>\n",
       "      <td>0.0</td>\n",
       "      <td>180.0</td>\n",
       "      <td>INSTALLED</td>\n",
       "      <td>False</td>\n",
       "      <td>False</td>\n",
       "      <td>Unknown</td>\n",
       "      <td>Unknown</td>\n",
       "      <td>Unknown</td>\n",
       "      <td>Unknown</td>\n",
       "      <td>60.0</td>\n",
       "      <td>2</td>\n",
       "      <td>False</td>\n",
       "      <td>AS_NEW</td>\n",
       "      <td>12.993393</td>\n",
       "    </tr>\n",
       "  </tbody>\n",
       "</table>\n",
       "<p>207 rows × 20 columns</p>\n",
       "</div>"
      ],
      "text/plain": [
       "       Unnamed: 0             Location Property type    Property subtype  \\\n",
       "3               3            Gerpinnes         HOUSE               HOUSE   \n",
       "59             59                Liège         HOUSE     APARTMENT_BLOCK   \n",
       "76             76            Zeebrugge         HOUSE               HOUSE   \n",
       "144           144    Attert (Heinstert         HOUSE           FARMHOUSE   \n",
       "395           395  SINT-JANS-MOLENBEEK         HOUSE  MIXED_USE_BUILDING   \n",
       "...           ...                  ...           ...                 ...   \n",
       "9944         9944           Oudenaarde         HOUSE     APARTMENT_BLOCK   \n",
       "9973         9973           Oudenaarde         HOUSE     APARTMENT_BLOCK   \n",
       "10002       10002           Oudenaarde         HOUSE     APARTMENT_BLOCK   \n",
       "10035       10035           Oudenaarde         HOUSE     APARTMENT_BLOCK   \n",
       "10065       10065           Oudenaarde         HOUSE     APARTMENT_BLOCK   \n",
       "\n",
       "           Price      Type of sale  Number of bedrooms  Living area  \\\n",
       "3       300000.0  residential_sale                 0.0        270.0   \n",
       "59     1550000.0  residential_sale                 0.0        500.0   \n",
       "76      388000.0  residential_sale                 0.0          NaN   \n",
       "144     950000.0  residential_sale                 0.0        250.0   \n",
       "395     795000.0  residential_sale                 0.0        650.0   \n",
       "...          ...               ...                 ...          ...   \n",
       "9944    439500.0  residential_sale                 0.0        180.0   \n",
       "9973    439500.0  residential_sale                 0.0        180.0   \n",
       "10002   439500.0  residential_sale                 0.0        180.0   \n",
       "10035   439500.0  residential_sale                 0.0        180.0   \n",
       "10065   439500.0  residential_sale                 0.0        180.0   \n",
       "\n",
       "             Kitchen Furnished  Open fireplace  Terrace Terrace orientation  \\\n",
       "3            Unknown     False           False     True               SOUTH   \n",
       "59         INSTALLED     False           False     True             Unknown   \n",
       "76           Unknown     False           False  Unknown             Unknown   \n",
       "144          Unknown      True           False  Unknown             Unknown   \n",
       "395    SEMI_EQUIPPED     False           False  Unknown             Unknown   \n",
       "...              ...       ...             ...      ...                 ...   \n",
       "9944       INSTALLED     False           False  Unknown             Unknown   \n",
       "9973       INSTALLED     False           False  Unknown             Unknown   \n",
       "10002      INSTALLED     False           False  Unknown             Unknown   \n",
       "10035      INSTALLED     False           False  Unknown             Unknown   \n",
       "10065      INSTALLED     False           False  Unknown             Unknown   \n",
       "\n",
       "        Garden Garden orientation  Surface area land Number of facades   Pool  \\\n",
       "3         True              SOUTH              498.0                 3  False   \n",
       "59     Unknown            Unknown                0.0                 2    NaN   \n",
       "76     Unknown            Unknown                0.0                 2  False   \n",
       "144    Unknown            Unknown            78987.0                 4  False   \n",
       "395    Unknown            Unknown              650.0                 3    NaN   \n",
       "...        ...                ...                ...               ...    ...   \n",
       "9944   Unknown            Unknown               60.0                 2  False   \n",
       "9973   Unknown            Unknown               60.0                 2  False   \n",
       "10002  Unknown            Unknown               60.0                 2  False   \n",
       "10035  Unknown            Unknown               60.0                 2  False   \n",
       "10065  Unknown            Unknown               60.0                 2  False   \n",
       "\n",
       "      Condition  Price_log  \n",
       "3           NaN  12.611538  \n",
       "59       AS_NEW  14.253765  \n",
       "76          NaN  12.868761  \n",
       "144         NaN  13.764217  \n",
       "395        GOOD  13.586097  \n",
       "...         ...        ...  \n",
       "9944     AS_NEW  12.993393  \n",
       "9973     AS_NEW  12.993393  \n",
       "10002    AS_NEW  12.993393  \n",
       "10035    AS_NEW  12.993393  \n",
       "10065    AS_NEW  12.993393  \n",
       "\n",
       "[207 rows x 20 columns]"
      ]
     },
     "execution_count": 159,
     "metadata": {},
     "output_type": "execute_result"
    }
   ],
   "source": [
    "df[df['Number of bedrooms']==0]"
   ]
  },
  {
   "cell_type": "code",
   "execution_count": 188,
   "metadata": {},
   "outputs": [
    {
     "data": {
      "text/plain": [
       "<seaborn.axisgrid.PairGrid at 0x14ab71430>"
      ]
     },
     "execution_count": 188,
     "metadata": {},
     "output_type": "execute_result"
    },
    {
     "data": {
      "image/png": "[encoded data removed]",
      "text/plain": [
       "<Figure size 360x360 with 6 Axes>"
      ]
     },
     "metadata": {
      "needs_background": "light"
     },
     "output_type": "display_data"
    }
   ],
   "source": [
    "sns.pairplot(df_bedrooms[['Number of bedrooms', 'Price']])"
   ]
  },
  {
   "cell_type": "code",
   "execution_count": 195,
   "metadata": {},
   "outputs": [
    {
     "data": {
      "text/plain": [
       "<seaborn.axisgrid.PairGrid at 0x14ab71790>"
      ]
     },
     "execution_count": 195,
     "metadata": {},
     "output_type": "execute_result"
    },
    {
     "data": {
      "image/png": "[encoded data removed]",
      "text/plain": [
       "<Figure size 540x540 with 12 Axes>"
      ]
     },
     "metadata": {
      "needs_background": "light"
     },
     "output_type": "display_data"
    }
   ],
   "source": [
    "sns.pairplot(df_bedrooms[['Number of bedrooms', 'bedrooms truncated', 'Price_log']])"
   ]
  },
  {
   "cell_type": "code",
   "execution_count": 196,
   "metadata": {},
   "outputs": [
    {
     "data": {
      "text/html": [
       "<div>\n",
       "<style scoped>\n",
       "    .dataframe tbody tr th:only-of-type {\n",
       "        vertical-align: middle;\n",
       "    }\n",
       "\n",
       "    .dataframe tbody tr th {\n",
       "        vertical-align: top;\n",
       "    }\n",
       "\n",
       "    .dataframe thead th {\n",
       "        text-align: right;\n",
       "    }\n",
       "</style>\n",
       "<table border=\"1\" class=\"dataframe\">\n",
       "  <thead>\n",
       "    <tr style=\"text-align: right;\">\n",
       "      <th></th>\n",
       "      <th>Number of bedrooms</th>\n",
       "      <th>Price</th>\n",
       "      <th>Price_log</th>\n",
       "      <th>bedrooms truncated</th>\n",
       "    </tr>\n",
       "  </thead>\n",
       "  <tbody>\n",
       "    <tr>\n",
       "      <th>Number of bedrooms</th>\n",
       "      <td>1.000000</td>\n",
       "      <td>0.448159</td>\n",
       "      <td>0.456434</td>\n",
       "      <td>0.841414</td>\n",
       "    </tr>\n",
       "    <tr>\n",
       "      <th>Price</th>\n",
       "      <td>0.448159</td>\n",
       "      <td>1.000000</td>\n",
       "      <td>0.825792</td>\n",
       "      <td>0.433637</td>\n",
       "    </tr>\n",
       "    <tr>\n",
       "      <th>Price_log</th>\n",
       "      <td>0.456434</td>\n",
       "      <td>0.825792</td>\n",
       "      <td>1.000000</td>\n",
       "      <td>0.495881</td>\n",
       "    </tr>\n",
       "    <tr>\n",
       "      <th>bedrooms truncated</th>\n",
       "      <td>0.841414</td>\n",
       "      <td>0.433637</td>\n",
       "      <td>0.495881</td>\n",
       "      <td>1.000000</td>\n",
       "    </tr>\n",
       "  </tbody>\n",
       "</table>\n",
       "</div>"
      ],
      "text/plain": [
       "                    Number of bedrooms     Price  Price_log  \\\n",
       "Number of bedrooms            1.000000  0.448159   0.456434   \n",
       "Price                         0.448159  1.000000   0.825792   \n",
       "Price_log                     0.456434  0.825792   1.000000   \n",
       "bedrooms truncated            0.841414  0.433637   0.495881   \n",
       "\n",
       "                    bedrooms truncated  \n",
       "Number of bedrooms            0.841414  \n",
       "Price                         0.433637  \n",
       "Price_log                     0.495881  \n",
       "bedrooms truncated            1.000000  "
      ]
     },
     "execution_count": 196,
     "metadata": {},
     "output_type": "execute_result"
    }
   ],
   "source": [
    "df_bedrooms.corr()"
   ]
  },
  {
   "cell_type": "code",
   "execution_count": 194,
   "metadata": {},
   "outputs": [],
   "source": [
    "df_bedrooms['bedrooms truncated'] = df_bedrooms['Number of bedrooms'].apply(lambda x: x if x<6 else 6)"
   ]
  },
  {
   "cell_type": "markdown",
   "metadata": {},
   "source": [
    "### Naive bedroom models"
   ]
  },
  {
   "cell_type": "code",
   "execution_count": 197,
   "metadata": {},
   "outputs": [],
   "source": [
    "X= df_bedrooms[['Number of bedrooms']]\n",
    "X_trunc = df_bedrooms[['bedrooms truncated']]\n",
    "y = df_bedrooms['Price']\n",
    "y_log = df_bedrooms['Price_log']"
   ]
  },
  {
   "cell_type": "code",
   "execution_count": 199,
   "metadata": {},
   "outputs": [
    {
     "name": "stdout",
     "output_type": "stream",
     "text": [
      "The train score is 0.2143201016576637\n",
      "The test score is 0.1505234905928312\n",
      "The train score is 0.2086096432992719\n",
      "The test score is 0.2071075453754011\n"
     ]
    }
   ],
   "source": [
    "easy_modeler(X,y, LinearRegression)\n",
    "easy_modeler(X,y_log, LinearRegression)"
   ]
  },
  {
   "cell_type": "code",
   "execution_count": 200,
   "metadata": {},
   "outputs": [
    {
     "name": "stdout",
     "output_type": "stream",
     "text": [
      "The train score is 0.188179422410103\n",
      "The test score is 0.1873525315205492\n",
      "The train score is 0.2507612556156663\n",
      "The test score is 0.22531097670926026\n"
     ]
    }
   ],
   "source": [
    "easy_modeler(X_trunc,y, LinearRegression)\n",
    "easy_modeler(X_trunc,y_log, LinearRegression)"
   ]
  },
  {
   "cell_type": "code",
   "execution_count": 201,
   "metadata": {},
   "outputs": [
    {
     "name": "stdout",
     "output_type": "stream",
     "text": [
      "The train score is 0.22797723008477244\n",
      "The test score is 0.19897945814471074\n",
      "The train score is 0.25754195919999523\n",
      "The test score is 0.2635896301821228\n"
     ]
    }
   ],
   "source": [
    "easy_modeler(X,y, RandomForestRegressor)\n",
    "easy_modeler(X,y_log, RandomForestRegressor)"
   ]
  },
  {
   "cell_type": "code",
   "execution_count": 202,
   "metadata": {},
   "outputs": [
    {
     "name": "stdout",
     "output_type": "stream",
     "text": [
      "The train score is 0.1973950764513478\n",
      "The test score is 0.20126119021714894\n",
      "The train score is 0.25791905563953477\n",
      "The test score is 0.22348204125626658\n"
     ]
    }
   ],
   "source": [
    "easy_modeler(X_trunc,y, RandomForestRegressor)\n",
    "easy_modeler(X_trunc,y_log, RandomForestRegressor)"
   ]
  },
  {
   "cell_type": "code",
   "execution_count": null,
   "metadata": {},
   "outputs": [],
   "source": []
  },
  {
   "cell_type": "markdown",
   "metadata": {},
   "source": [
    "## Exploration of property type and sub-type"
   ]
  },
  {
   "cell_type": "code",
   "execution_count": 203,
   "metadata": {},
   "outputs": [
    {
     "data": {
      "text/plain": [
       "Index(['Unnamed: 0', 'Location', 'Property type', 'Property subtype', 'Price',\n",
       "       'Type of sale', 'Number of bedrooms', 'Living area', 'Kitchen',\n",
       "       'Furnished', 'Open fireplace', 'Terrace', 'Terrace orientation',\n",
       "       'Garden', 'Garden orientation', 'Surface area land',\n",
       "       'Number of facades', 'Pool', 'Condition', 'Price_log'],\n",
       "      dtype='object')"
      ]
     },
     "execution_count": 203,
     "metadata": {},
     "output_type": "execute_result"
    }
   ],
   "source": [
    "df.columns"
   ]
  },
  {
   "cell_type": "code",
   "execution_count": 206,
   "metadata": {},
   "outputs": [],
   "source": [
    "df_property = df[['Property type', 'Property subtype', 'Price', 'Price_log']]"
   ]
  },
  {
   "cell_type": "code",
   "execution_count": 207,
   "metadata": {},
   "outputs": [
    {
     "data": {
      "text/plain": [
       "array(['HOUSE'], dtype=object)"
      ]
     },
     "execution_count": 207,
     "metadata": {},
     "output_type": "execute_result"
    }
   ],
   "source": [
    "df_property['Property type'].unique()"
   ]
  },
  {
   "cell_type": "code",
   "execution_count": 214,
   "metadata": {},
   "outputs": [
    {
     "data": {
      "text/plain": [
       "['HOUSE',\n",
       " 'VILLA',\n",
       " 'APARTMENT_BLOCK',\n",
       " 'MIXED_USE_BUILDING',\n",
       " 'MANSION',\n",
       " 'TOWN_HOUSE',\n",
       " 'FARMHOUSE',\n",
       " 'BUNGALOW',\n",
       " 'EXCEPTIONAL_PROPERTY',\n",
       " 'COUNTRY_COTTAGE',\n",
       " 'MANOR_HOUSE',\n",
       " 'CHALET',\n",
       " 'CASTLE',\n",
       " 'OTHER_PROPERTY']"
      ]
     },
     "execution_count": 214,
     "metadata": {},
     "output_type": "execute_result"
    }
   ],
   "source": [
    "list_subtypes = list(df_property['Property subtype'].unique())\n",
    "list_subtypes"
   ]
  },
  {
   "cell_type": "code",
   "execution_count": 249,
   "metadata": {},
   "outputs": [
    {
     "data": {
      "text/html": [
       "<div>\n",
       "<style scoped>\n",
       "    .dataframe tbody tr th:only-of-type {\n",
       "        vertical-align: middle;\n",
       "    }\n",
       "\n",
       "    .dataframe tbody tr th {\n",
       "        vertical-align: top;\n",
       "    }\n",
       "\n",
       "    .dataframe thead th {\n",
       "        text-align: right;\n",
       "    }\n",
       "</style>\n",
       "<table border=\"1\" class=\"dataframe\">\n",
       "  <thead>\n",
       "    <tr style=\"text-align: right;\">\n",
       "      <th></th>\n",
       "      <th>Property type</th>\n",
       "      <th>Price</th>\n",
       "      <th>Price_log</th>\n",
       "    </tr>\n",
       "    <tr>\n",
       "      <th>Property subtype</th>\n",
       "      <th></th>\n",
       "      <th></th>\n",
       "      <th></th>\n",
       "    </tr>\n",
       "  </thead>\n",
       "  <tbody>\n",
       "    <tr>\n",
       "      <th>APARTMENT_BLOCK</th>\n",
       "      <td>509</td>\n",
       "      <td>509</td>\n",
       "      <td>509</td>\n",
       "    </tr>\n",
       "    <tr>\n",
       "      <th>BUNGALOW</th>\n",
       "      <td>100</td>\n",
       "      <td>100</td>\n",
       "      <td>100</td>\n",
       "    </tr>\n",
       "    <tr>\n",
       "      <th>CASTLE</th>\n",
       "      <td>8</td>\n",
       "      <td>8</td>\n",
       "      <td>8</td>\n",
       "    </tr>\n",
       "    <tr>\n",
       "      <th>CHALET</th>\n",
       "      <td>35</td>\n",
       "      <td>35</td>\n",
       "      <td>35</td>\n",
       "    </tr>\n",
       "    <tr>\n",
       "      <th>COUNTRY_COTTAGE</th>\n",
       "      <td>80</td>\n",
       "      <td>80</td>\n",
       "      <td>80</td>\n",
       "    </tr>\n",
       "    <tr>\n",
       "      <th>EXCEPTIONAL_PROPERTY</th>\n",
       "      <td>129</td>\n",
       "      <td>129</td>\n",
       "      <td>129</td>\n",
       "    </tr>\n",
       "    <tr>\n",
       "      <th>FARMHOUSE</th>\n",
       "      <td>31</td>\n",
       "      <td>31</td>\n",
       "      <td>31</td>\n",
       "    </tr>\n",
       "    <tr>\n",
       "      <th>HOUSE</th>\n",
       "      <td>7585</td>\n",
       "      <td>7585</td>\n",
       "      <td>7585</td>\n",
       "    </tr>\n",
       "    <tr>\n",
       "      <th>MANOR_HOUSE</th>\n",
       "      <td>22</td>\n",
       "      <td>22</td>\n",
       "      <td>22</td>\n",
       "    </tr>\n",
       "    <tr>\n",
       "      <th>MANSION</th>\n",
       "      <td>164</td>\n",
       "      <td>164</td>\n",
       "      <td>164</td>\n",
       "    </tr>\n",
       "    <tr>\n",
       "      <th>MIXED_USE_BUILDING</th>\n",
       "      <td>334</td>\n",
       "      <td>334</td>\n",
       "      <td>334</td>\n",
       "    </tr>\n",
       "    <tr>\n",
       "      <th>OTHER_PROPERTY</th>\n",
       "      <td>27</td>\n",
       "      <td>27</td>\n",
       "      <td>27</td>\n",
       "    </tr>\n",
       "    <tr>\n",
       "      <th>TOWN_HOUSE</th>\n",
       "      <td>113</td>\n",
       "      <td>113</td>\n",
       "      <td>113</td>\n",
       "    </tr>\n",
       "    <tr>\n",
       "      <th>VILLA</th>\n",
       "      <td>821</td>\n",
       "      <td>821</td>\n",
       "      <td>821</td>\n",
       "    </tr>\n",
       "  </tbody>\n",
       "</table>\n",
       "</div>"
      ],
      "text/plain": [
       "                      Property type  Price  Price_log\n",
       "Property subtype                                     \n",
       "APARTMENT_BLOCK                 509    509        509\n",
       "BUNGALOW                        100    100        100\n",
       "CASTLE                            8      8          8\n",
       "CHALET                           35     35         35\n",
       "COUNTRY_COTTAGE                  80     80         80\n",
       "EXCEPTIONAL_PROPERTY            129    129        129\n",
       "FARMHOUSE                        31     31         31\n",
       "HOUSE                          7585   7585       7585\n",
       "MANOR_HOUSE                      22     22         22\n",
       "MANSION                         164    164        164\n",
       "MIXED_USE_BUILDING              334    334        334\n",
       "OTHER_PROPERTY                   27     27         27\n",
       "TOWN_HOUSE                      113    113        113\n",
       "VILLA                           821    821        821"
      ]
     },
     "execution_count": 249,
     "metadata": {},
     "output_type": "execute_result"
    }
   ],
   "source": [
    "df_property.groupby('Property subtype').count()"
   ]
  },
  {
   "cell_type": "code",
   "execution_count": 210,
   "metadata": {},
   "outputs": [
    {
     "data": {
      "text/plain": [
       "0"
      ]
     },
     "execution_count": 210,
     "metadata": {},
     "output_type": "execute_result"
    }
   ],
   "source": [
    "df_property['Property subtype'].isna().sum()"
   ]
  },
  {
   "cell_type": "code",
   "execution_count": 212,
   "metadata": {},
   "outputs": [
    {
     "data": {
      "text/plain": [
       "<AxesSubplot:xlabel='Price', ylabel='Property subtype'>"
      ]
     },
     "execution_count": 212,
     "metadata": {},
     "output_type": "execute_result"
    },
    {
     "data": {
      "image/png": "[encoded data removed]",
      "text/plain": [
       "<Figure size 432x288 with 1 Axes>"
      ]
     },
     "metadata": {
      "needs_background": "light"
     },
     "output_type": "display_data"
    }
   ],
   "source": [
    "sns.violinplot(data = df_property, y='Property subtype', x='Price' )"
   ]
  },
  {
   "cell_type": "code",
   "execution_count": 213,
   "metadata": {},
   "outputs": [
    {
     "data": {
      "text/plain": [
       "<AxesSubplot:xlabel='Price_log', ylabel='Property subtype'>"
      ]
     },
     "execution_count": 213,
     "metadata": {},
     "output_type": "execute_result"
    },
    {
     "data": {
      "image/png": "[encoded data removed]",
      "text/plain": [
       "<Figure size 432x288 with 1 Axes>"
      ]
     },
     "metadata": {
      "needs_background": "light"
     },
     "output_type": "display_data"
    }
   ],
   "source": [
    "sns.violinplot(data = df_property, y='Property subtype', x='Price_log' )"
   ]
  },
  {
   "cell_type": "code",
   "execution_count": 217,
   "metadata": {},
   "outputs": [
    {
     "data": {
      "text/plain": [
       "<AxesSubplot:xlabel='Price_log', ylabel='Count'>"
      ]
     },
     "execution_count": 217,
     "metadata": {},
     "output_type": "execute_result"
    },
    {
     "data": {
      "image/png": "[encoded data removed]",
      "text/plain": [
       "<Figure size 432x288 with 1 Axes>"
      ]
     },
     "metadata": {
      "needs_background": "light"
     },
     "output_type": "display_data"
    }
   ],
   "source": [
    "sns.histplot(df_property['Price_log'], kde=True)"
   ]
  },
  {
   "cell_type": "code",
   "execution_count": 238,
   "metadata": {},
   "outputs": [],
   "source": [
    "def plot_subtype(subtype):\n",
    "    sns.histplot(df_property[df_property['Property subtype']==subtype]['Price_log'],kde=True)\n",
    "    plt.title(subtype)"
   ]
  },
  {
   "cell_type": "code",
   "execution_count": 245,
   "metadata": {},
   "outputs": [
    {
     "data": {
      "image/png": "[encoded data removed]",
      "text/plain": [
       "<Figure size 432x288 with 1 Axes>"
      ]
     },
     "metadata": {
      "needs_background": "light"
     },
     "output_type": "display_data"
    }
   ],
   "source": [
    "plot_subtype(list_subtypes[11])"
   ]
  },
  {
   "cell_type": "code",
   "execution_count": 250,
   "metadata": {},
   "outputs": [],
   "source": [
    "df_property_dummies = pd.get_dummies(df_property['Property subtype'])"
   ]
  },
  {
   "cell_type": "code",
   "execution_count": 251,
   "metadata": {},
   "outputs": [
    {
     "data": {
      "text/html": [
       "<div>\n",
       "<style scoped>\n",
       "    .dataframe tbody tr th:only-of-type {\n",
       "        vertical-align: middle;\n",
       "    }\n",
       "\n",
       "    .dataframe tbody tr th {\n",
       "        vertical-align: top;\n",
       "    }\n",
       "\n",
       "    .dataframe thead th {\n",
       "        text-align: right;\n",
       "    }\n",
       "</style>\n",
       "<table border=\"1\" class=\"dataframe\">\n",
       "  <thead>\n",
       "    <tr style=\"text-align: right;\">\n",
       "      <th></th>\n",
       "      <th>APARTMENT_BLOCK</th>\n",
       "      <th>BUNGALOW</th>\n",
       "      <th>CASTLE</th>\n",
       "      <th>CHALET</th>\n",
       "      <th>COUNTRY_COTTAGE</th>\n",
       "      <th>EXCEPTIONAL_PROPERTY</th>\n",
       "      <th>FARMHOUSE</th>\n",
       "      <th>HOUSE</th>\n",
       "      <th>MANOR_HOUSE</th>\n",
       "      <th>MANSION</th>\n",
       "      <th>MIXED_USE_BUILDING</th>\n",
       "      <th>OTHER_PROPERTY</th>\n",
       "      <th>TOWN_HOUSE</th>\n",
       "      <th>VILLA</th>\n",
       "    </tr>\n",
       "  </thead>\n",
       "  <tbody>\n",
       "    <tr>\n",
       "      <th>0</th>\n",
       "      <td>0</td>\n",
       "      <td>0</td>\n",
       "      <td>0</td>\n",
       "      <td>0</td>\n",
       "      <td>0</td>\n",
       "      <td>0</td>\n",
       "      <td>0</td>\n",
       "      <td>1</td>\n",
       "      <td>0</td>\n",
       "      <td>0</td>\n",
       "      <td>0</td>\n",
       "      <td>0</td>\n",
       "      <td>0</td>\n",
       "      <td>0</td>\n",
       "    </tr>\n",
       "    <tr>\n",
       "      <th>1</th>\n",
       "      <td>0</td>\n",
       "      <td>0</td>\n",
       "      <td>0</td>\n",
       "      <td>0</td>\n",
       "      <td>0</td>\n",
       "      <td>0</td>\n",
       "      <td>0</td>\n",
       "      <td>1</td>\n",
       "      <td>0</td>\n",
       "      <td>0</td>\n",
       "      <td>0</td>\n",
       "      <td>0</td>\n",
       "      <td>0</td>\n",
       "      <td>0</td>\n",
       "    </tr>\n",
       "    <tr>\n",
       "      <th>2</th>\n",
       "      <td>0</td>\n",
       "      <td>0</td>\n",
       "      <td>0</td>\n",
       "      <td>0</td>\n",
       "      <td>0</td>\n",
       "      <td>0</td>\n",
       "      <td>0</td>\n",
       "      <td>1</td>\n",
       "      <td>0</td>\n",
       "      <td>0</td>\n",
       "      <td>0</td>\n",
       "      <td>0</td>\n",
       "      <td>0</td>\n",
       "      <td>0</td>\n",
       "    </tr>\n",
       "    <tr>\n",
       "      <th>3</th>\n",
       "      <td>0</td>\n",
       "      <td>0</td>\n",
       "      <td>0</td>\n",
       "      <td>0</td>\n",
       "      <td>0</td>\n",
       "      <td>0</td>\n",
       "      <td>0</td>\n",
       "      <td>1</td>\n",
       "      <td>0</td>\n",
       "      <td>0</td>\n",
       "      <td>0</td>\n",
       "      <td>0</td>\n",
       "      <td>0</td>\n",
       "      <td>0</td>\n",
       "    </tr>\n",
       "    <tr>\n",
       "      <th>4</th>\n",
       "      <td>0</td>\n",
       "      <td>0</td>\n",
       "      <td>0</td>\n",
       "      <td>0</td>\n",
       "      <td>0</td>\n",
       "      <td>0</td>\n",
       "      <td>0</td>\n",
       "      <td>1</td>\n",
       "      <td>0</td>\n",
       "      <td>0</td>\n",
       "      <td>0</td>\n",
       "      <td>0</td>\n",
       "      <td>0</td>\n",
       "      <td>0</td>\n",
       "    </tr>\n",
       "    <tr>\n",
       "      <th>...</th>\n",
       "      <td>...</td>\n",
       "      <td>...</td>\n",
       "      <td>...</td>\n",
       "      <td>...</td>\n",
       "      <td>...</td>\n",
       "      <td>...</td>\n",
       "      <td>...</td>\n",
       "      <td>...</td>\n",
       "      <td>...</td>\n",
       "      <td>...</td>\n",
       "      <td>...</td>\n",
       "      <td>...</td>\n",
       "      <td>...</td>\n",
       "      <td>...</td>\n",
       "    </tr>\n",
       "    <tr>\n",
       "      <th>10077</th>\n",
       "      <td>0</td>\n",
       "      <td>0</td>\n",
       "      <td>0</td>\n",
       "      <td>0</td>\n",
       "      <td>0</td>\n",
       "      <td>0</td>\n",
       "      <td>0</td>\n",
       "      <td>1</td>\n",
       "      <td>0</td>\n",
       "      <td>0</td>\n",
       "      <td>0</td>\n",
       "      <td>0</td>\n",
       "      <td>0</td>\n",
       "      <td>0</td>\n",
       "    </tr>\n",
       "    <tr>\n",
       "      <th>10078</th>\n",
       "      <td>0</td>\n",
       "      <td>0</td>\n",
       "      <td>0</td>\n",
       "      <td>0</td>\n",
       "      <td>0</td>\n",
       "      <td>0</td>\n",
       "      <td>0</td>\n",
       "      <td>1</td>\n",
       "      <td>0</td>\n",
       "      <td>0</td>\n",
       "      <td>0</td>\n",
       "      <td>0</td>\n",
       "      <td>0</td>\n",
       "      <td>0</td>\n",
       "    </tr>\n",
       "    <tr>\n",
       "      <th>10079</th>\n",
       "      <td>0</td>\n",
       "      <td>0</td>\n",
       "      <td>0</td>\n",
       "      <td>0</td>\n",
       "      <td>0</td>\n",
       "      <td>0</td>\n",
       "      <td>0</td>\n",
       "      <td>0</td>\n",
       "      <td>0</td>\n",
       "      <td>0</td>\n",
       "      <td>0</td>\n",
       "      <td>0</td>\n",
       "      <td>0</td>\n",
       "      <td>1</td>\n",
       "    </tr>\n",
       "    <tr>\n",
       "      <th>10080</th>\n",
       "      <td>0</td>\n",
       "      <td>0</td>\n",
       "      <td>0</td>\n",
       "      <td>0</td>\n",
       "      <td>0</td>\n",
       "      <td>0</td>\n",
       "      <td>0</td>\n",
       "      <td>1</td>\n",
       "      <td>0</td>\n",
       "      <td>0</td>\n",
       "      <td>0</td>\n",
       "      <td>0</td>\n",
       "      <td>0</td>\n",
       "      <td>0</td>\n",
       "    </tr>\n",
       "    <tr>\n",
       "      <th>10081</th>\n",
       "      <td>0</td>\n",
       "      <td>0</td>\n",
       "      <td>0</td>\n",
       "      <td>0</td>\n",
       "      <td>0</td>\n",
       "      <td>0</td>\n",
       "      <td>0</td>\n",
       "      <td>1</td>\n",
       "      <td>0</td>\n",
       "      <td>0</td>\n",
       "      <td>0</td>\n",
       "      <td>0</td>\n",
       "      <td>0</td>\n",
       "      <td>0</td>\n",
       "    </tr>\n",
       "  </tbody>\n",
       "</table>\n",
       "<p>9958 rows × 14 columns</p>\n",
       "</div>"
      ],
      "text/plain": [
       "       APARTMENT_BLOCK  BUNGALOW  CASTLE  CHALET  COUNTRY_COTTAGE  \\\n",
       "0                    0         0       0       0                0   \n",
       "1                    0         0       0       0                0   \n",
       "2                    0         0       0       0                0   \n",
       "3                    0         0       0       0                0   \n",
       "4                    0         0       0       0                0   \n",
       "...                ...       ...     ...     ...              ...   \n",
       "10077                0         0       0       0                0   \n",
       "10078                0         0       0       0                0   \n",
       "10079                0         0       0       0                0   \n",
       "10080                0         0       0       0                0   \n",
       "10081                0         0       0       0                0   \n",
       "\n",
       "       EXCEPTIONAL_PROPERTY  FARMHOUSE  HOUSE  MANOR_HOUSE  MANSION  \\\n",
       "0                         0          0      1            0        0   \n",
       "1                         0          0      1            0        0   \n",
       "2                         0          0      1            0        0   \n",
       "3                         0          0      1            0        0   \n",
       "4                         0          0      1            0        0   \n",
       "...                     ...        ...    ...          ...      ...   \n",
       "10077                     0          0      1            0        0   \n",
       "10078                     0          0      1            0        0   \n",
       "10079                     0          0      0            0        0   \n",
       "10080                     0          0      1            0        0   \n",
       "10081                     0          0      1            0        0   \n",
       "\n",
       "       MIXED_USE_BUILDING  OTHER_PROPERTY  TOWN_HOUSE  VILLA  \n",
       "0                       0               0           0      0  \n",
       "1                       0               0           0      0  \n",
       "2                       0               0           0      0  \n",
       "3                       0               0           0      0  \n",
       "4                       0               0           0      0  \n",
       "...                   ...             ...         ...    ...  \n",
       "10077                   0               0           0      0  \n",
       "10078                   0               0           0      0  \n",
       "10079                   0               0           0      1  \n",
       "10080                   0               0           0      0  \n",
       "10081                   0               0           0      0  \n",
       "\n",
       "[9958 rows x 14 columns]"
      ]
     },
     "execution_count": 251,
     "metadata": {},
     "output_type": "execute_result"
    }
   ],
   "source": [
    "df_property_dummies"
   ]
  },
  {
   "cell_type": "code",
   "execution_count": null,
   "metadata": {},
   "outputs": [],
   "source": []
  },
  {
   "cell_type": "markdown",
   "metadata": {},
   "source": [
    "### naive property model"
   ]
  },
  {
   "cell_type": "code",
   "execution_count": 255,
   "metadata": {},
   "outputs": [],
   "source": [
    "X = df_property_dummies\n",
    "y = df_property['Price']\n",
    "y_log = df_property['Price_log']"
   ]
  },
  {
   "cell_type": "code",
   "execution_count": 259,
   "metadata": {},
   "outputs": [
    {
     "name": "stdout",
     "output_type": "stream",
     "text": [
      "The train score is 0.09620975081470784\n",
      "The test score is 0.199586262497485\n",
      "The train score is 0.1896414572502093\n",
      "The test score is 0.2055688879029418\n"
     ]
    }
   ],
   "source": [
    "easy_modeler(X, y, LinearRegression)\n",
    "easy_modeler(X, y_log, LinearRegression)"
   ]
  },
  {
   "cell_type": "code",
   "execution_count": 260,
   "metadata": {},
   "outputs": [
    {
     "name": "stdout",
     "output_type": "stream",
     "text": [
      "The train score is 0.09377748391276386\n",
      "The test score is 0.2167756615334061\n",
      "The train score is 0.1945094136573552\n",
      "The test score is 0.18679921592782034\n"
     ]
    }
   ],
   "source": [
    "easy_modeler(X, y, RandomForestRegressor)\n",
    "easy_modeler(X, y_log, RandomForestRegressor)"
   ]
  },
  {
   "cell_type": "code",
   "execution_count": 263,
   "metadata": {},
   "outputs": [],
   "source": [
    "from sklearn.linear_model import Lasso\n",
    "from sklearn.linear_model import Ridge"
   ]
  },
  {
   "cell_type": "code",
   "execution_count": 262,
   "metadata": {},
   "outputs": [
    {
     "name": "stdout",
     "output_type": "stream",
     "text": [
      "The train score is 0.09722073458887792\n",
      "The test score is 0.18053372651591615\n",
      "The train score is 0.0\n",
      "The test score is -0.00010799598420851986\n"
     ]
    }
   ],
   "source": [
    "easy_modeler(X, y, Lasso)\n",
    "easy_modeler(X, y_log, Lasso)"
   ]
  },
  {
   "cell_type": "code",
   "execution_count": 264,
   "metadata": {},
   "outputs": [
    {
     "name": "stdout",
     "output_type": "stream",
     "text": [
      "The train score is 0.09437623391071659\n",
      "The test score is 0.2012457982347401\n",
      "The train score is 0.18465900155795156\n",
      "The test score is 0.22699991440085943\n"
     ]
    }
   ],
   "source": [
    "easy_modeler(X, y, Ridge)\n",
    "easy_modeler(X, y_log, Ridge)"
   ]
  },
  {
   "cell_type": "code",
   "execution_count": 266,
   "metadata": {},
   "outputs": [
    {
     "data": {
      "text/plain": [
       "Index(['Unnamed: 0', 'Location', 'Property type', 'Property subtype', 'Price',\n",
       "       'Type of sale', 'Number of bedrooms', 'Living area', 'Kitchen',\n",
       "       'Furnished', 'Open fireplace', 'Terrace', 'Terrace orientation',\n",
       "       'Garden', 'Garden orientation', 'Surface area land',\n",
       "       'Number of facades', 'Pool', 'Condition', 'Price_log'],\n",
       "      dtype='object')"
      ]
     },
     "execution_count": 266,
     "metadata": {},
     "output_type": "execute_result"
    }
   ],
   "source": [
    "df.columns"
   ]
  },
  {
   "cell_type": "markdown",
   "metadata": {},
   "source": [
    "## Exploration of location"
   ]
  },
  {
   "cell_type": "code",
   "execution_count": 268,
   "metadata": {},
   "outputs": [
    {
     "data": {
      "text/plain": [
       "2104"
      ]
     },
     "execution_count": 268,
     "metadata": {},
     "output_type": "execute_result"
    }
   ],
   "source": [
    "len(df['Location'].unique())"
   ]
  },
  {
   "cell_type": "code",
   "execution_count": 276,
   "metadata": {},
   "outputs": [
    {
     "data": {
      "text/html": [
       "<div>\n",
       "<style scoped>\n",
       "    .dataframe tbody tr th:only-of-type {\n",
       "        vertical-align: middle;\n",
       "    }\n",
       "\n",
       "    .dataframe tbody tr th {\n",
       "        vertical-align: top;\n",
       "    }\n",
       "\n",
       "    .dataframe thead th {\n",
       "        text-align: right;\n",
       "    }\n",
       "</style>\n",
       "<table border=\"1\" class=\"dataframe\">\n",
       "  <thead>\n",
       "    <tr style=\"text-align: right;\">\n",
       "      <th></th>\n",
       "      <th>Property type</th>\n",
       "    </tr>\n",
       "    <tr>\n",
       "      <th>Location</th>\n",
       "      <th></th>\n",
       "    </tr>\n",
       "  </thead>\n",
       "  <tbody>\n",
       "    <tr>\n",
       "      <th>Gent</th>\n",
       "      <td>140</td>\n",
       "    </tr>\n",
       "    <tr>\n",
       "      <th>Antwerp</th>\n",
       "      <td>126</td>\n",
       "    </tr>\n",
       "    <tr>\n",
       "      <th>Aalst</th>\n",
       "      <td>91</td>\n",
       "    </tr>\n",
       "    <tr>\n",
       "      <th>Brugge</th>\n",
       "      <td>85</td>\n",
       "    </tr>\n",
       "    <tr>\n",
       "      <th>Roeselare</th>\n",
       "      <td>76</td>\n",
       "    </tr>\n",
       "    <tr>\n",
       "      <th>...</th>\n",
       "      <td>...</td>\n",
       "    </tr>\n",
       "    <tr>\n",
       "      <th>Kieldrecht</th>\n",
       "      <td>1</td>\n",
       "    </tr>\n",
       "    <tr>\n",
       "      <th>Kerkom</th>\n",
       "      <td>1</td>\n",
       "    </tr>\n",
       "    <tr>\n",
       "      <th>Kemmel</th>\n",
       "      <td>1</td>\n",
       "    </tr>\n",
       "    <tr>\n",
       "      <th>Kaster</th>\n",
       "      <td>1</td>\n",
       "    </tr>\n",
       "    <tr>\n",
       "      <th>Érezée</th>\n",
       "      <td>1</td>\n",
       "    </tr>\n",
       "  </tbody>\n",
       "</table>\n",
       "<p>2104 rows × 1 columns</p>\n",
       "</div>"
      ],
      "text/plain": [
       "             Property type\n",
       "Location                  \n",
       "Gent                   140\n",
       "Antwerp                126\n",
       "Aalst                   91\n",
       "Brugge                  85\n",
       "Roeselare               76\n",
       "...                    ...\n",
       "Kieldrecht               1\n",
       "Kerkom                   1\n",
       "Kemmel                   1\n",
       "Kaster                   1\n",
       "Érezée                   1\n",
       "\n",
       "[2104 rows x 1 columns]"
      ]
     },
     "execution_count": 276,
     "metadata": {},
     "output_type": "execute_result"
    }
   ],
   "source": [
    "df[['Location', 'Property type']].groupby('Location').count().sort_values(by='Property type', ascending=False)"
   ]
  },
  {
   "cell_type": "code",
   "execution_count": null,
   "metadata": {},
   "outputs": [],
   "source": []
  },
  {
   "cell_type": "code",
   "execution_count": 277,
   "metadata": {},
   "outputs": [
    {
     "data": {
      "text/plain": [
       "Index(['Unnamed: 0', 'Location', 'Property type', 'Property subtype', 'Price',\n",
       "       'Type of sale', 'Number of bedrooms', 'Living area', 'Kitchen',\n",
       "       'Furnished', 'Open fireplace', 'Terrace', 'Terrace orientation',\n",
       "       'Garden', 'Garden orientation', 'Surface area land',\n",
       "       'Number of facades', 'Pool', 'Condition', 'Price_log'],\n",
       "      dtype='object')"
      ]
     },
     "execution_count": 277,
     "metadata": {},
     "output_type": "execute_result"
    }
   ],
   "source": [
    "df.columns"
   ]
  },
  {
   "cell_type": "code",
   "execution_count": null,
   "metadata": {},
   "outputs": [],
   "source": []
  },
  {
   "cell_type": "code",
   "execution_count": null,
   "metadata": {},
   "outputs": [],
   "source": []
  },
  {
   "cell_type": "code",
   "execution_count": null,
   "metadata": {},
   "outputs": [],
   "source": []
  },
  {
   "cell_type": "markdown",
   "metadata": {},
   "source": [
    "# Combined Model"
   ]
  },
  {
   "cell_type": "code",
   "execution_count": 326,
   "metadata": {},
   "outputs": [],
   "source": [
    "from sklearn.metrics import r2_score\n",
    "\n",
    "def r2_exp(y_true, y_pred):\n",
    "    return r2_score(np.exp(y_true), np.exp(y_pred))"
   ]
  },
  {
   "cell_type": "code",
   "execution_count": 280,
   "metadata": {},
   "outputs": [],
   "source": [
    "df_1 = df_simple[['Surface_log', 'Living_log']]\n",
    "df_2 = df_bedrooms[['Number of bedrooms']]\n",
    "df_3 = df_property_dummies\n",
    "df_target = df[['Price', 'Price_log']]\n",
    "\n",
    "df_final = df_1.join(df_2, how='inner')\n",
    "df_final = df_final.join(df_3, how='inner')\n",
    "df_final = df_final.join(df_target, how='inner')\n",
    "\n",
    "X = df_final.drop(columns=['Price', 'Price_log'])\n",
    "y = df_final['Price_log']"
   ]
  },
  {
   "cell_type": "code",
   "execution_count": 283,
   "metadata": {},
   "outputs": [
    {
     "name": "stdout",
     "output_type": "stream",
     "text": [
      "The train score is 0.5033507774893904\n",
      "The test score is 0.5228743897173753\n"
     ]
    }
   ],
   "source": [
    "easy_modeler(X,y, LinearRegression)"
   ]
  },
  {
   "cell_type": "code",
   "execution_count": 284,
   "metadata": {},
   "outputs": [
    {
     "name": "stdout",
     "output_type": "stream",
     "text": [
      "The train score is 0.5053196832128043\n",
      "The test score is 0.51963583783797\n"
     ]
    }
   ],
   "source": [
    "easy_modeler(X,y, Ridge)"
   ]
  },
  {
   "cell_type": "code",
   "execution_count": 287,
   "metadata": {},
   "outputs": [
    {
     "name": "stdout",
     "output_type": "stream",
     "text": [
      "The train score is 0.9217701520064143\n",
      "The test score is 0.5201812693640246\n"
     ]
    }
   ],
   "source": [
    "easy_modeler(X,y, RandomForestRegressor)"
   ]
  },
  {
   "cell_type": "code",
   "execution_count": null,
   "metadata": {},
   "outputs": [],
   "source": []
  },
  {
   "cell_type": "markdown",
   "metadata": {},
   "source": [
    "## Ridge and lasso"
   ]
  },
  {
   "cell_type": "code",
   "execution_count": 333,
   "metadata": {},
   "outputs": [
    {
     "name": "stdout",
     "output_type": "stream",
     "text": [
      "The train score is 0.5089233292060944\n",
      "The test score is 0.504948019461976\n"
     ]
    }
   ],
   "source": [
    "from sklearn.model_selection import GridSearchCV, train_test_split\n",
    "\n",
    "X_train, X_test, y_train, y_test = train_test_split(X, y, train_size=0.8)\n",
    "\n",
    "from sklearn.linear_model import LinearRegression\n",
    "\n",
    "ridge = LinearRegression()\n",
    "ridge.fit(X_train, y_train)\n",
    "\n",
    "train_score =ridge.score(X_train, y_train)\n",
    "test_score =ridge.score(X_test, y_test)\n",
    "\n",
    "print(f'The train score is {train_score}')\n",
    "print(f'The test score is {test_score}')\n",
    "\n"
   ]
  },
  {
   "cell_type": "code",
   "execution_count": 336,
   "metadata": {},
   "outputs": [
    {
     "name": "stdout",
     "output_type": "stream",
     "text": [
      "-0.5154705790370295\n",
      "-0.37561461283388575\n"
     ]
    }
   ],
   "source": [
    "y_pred = ridge.predict(X_test)\n",
    "y_train_pred = ridge.predict(X_train)\n",
    "\n",
    "print(r2_exp(y_train_pred, y_train))\n",
    "print(r2_exp(y_pred, y_test))"
   ]
  },
  {
   "cell_type": "code",
   "execution_count": 341,
   "metadata": {},
   "outputs": [
    {
     "data": {
      "text/plain": [
       "1.3663289153349851"
      ]
     },
     "execution_count": 341,
     "metadata": {},
     "output_type": "execute_result"
    }
   ],
   "source": [
    "np.exp(np.abs(np.log(np.exp(y_pred)/np.exp(y_test))).mean())"
   ]
  },
  {
   "cell_type": "markdown",
   "metadata": {},
   "source": [
    "## Random forest regressor"
   ]
  },
  {
   "cell_type": "code",
   "execution_count": 298,
   "metadata": {},
   "outputs": [],
   "source": [
    "from sklearn.model_selection import GridSearchCV, train_test_split\n",
    "\n",
    "X_train, X_test, y_train, y_test = train_test_split(X, y, train_size=0.8, random_state=76)"
   ]
  },
  {
   "cell_type": "code",
   "execution_count": 299,
   "metadata": {},
   "outputs": [
    {
     "name": "stdout",
     "output_type": "stream",
     "text": [
      "The train score is 0.6402050080337887\n",
      "The test score is 0.5436180360741498\n"
     ]
    }
   ],
   "source": [
    "\n",
    "\n",
    "from sklearn.ensemble import RandomForestRegressor\n",
    "from sklearn.model_selection import GridSearchCV\n",
    "\n",
    "params = {\n",
    "    'n_estimators': [10,100,1000],\n",
    "    'max_depth': [2,20,50,100],\n",
    "    'min_samples_split': [2,10,50],\n",
    "    'min_samples_leaf': [1,5,20],\n",
    "}\n",
    "\n",
    "model = RandomForestRegressor(n_jobs=-1)\n",
    "clf = GridSearchCV(model, params)\n",
    "clf.fit(X_train, y_train)\n",
    "\n",
    "train_score = clf.score(X_train, y_train)\n",
    "test_score = clf.score(X_test, y_test)\n",
    "\n",
    "print(f'The train score is {train_score}')\n",
    "print(f'The test score is {test_score}')"
   ]
  },
  {
   "cell_type": "code",
   "execution_count": 300,
   "metadata": {},
   "outputs": [
    {
     "data": {
      "text/plain": [
       "{'max_depth': 20,\n",
       " 'min_samples_leaf': 1,\n",
       " 'min_samples_split': 50,\n",
       " 'n_estimators': 100}"
      ]
     },
     "execution_count": 300,
     "metadata": {},
     "output_type": "execute_result"
    }
   ],
   "source": [
    "clf.best_params_"
   ]
  },
  {
   "cell_type": "code",
   "execution_count": 302,
   "metadata": {},
   "outputs": [],
   "source": [
    "import joblib\n",
    "\n",
    "best_model = clf.best_estimator_"
   ]
  },
  {
   "cell_type": "code",
   "execution_count": 311,
   "metadata": {},
   "outputs": [
    {
     "data": {
      "text/plain": [
       "['./model/best_model']"
      ]
     },
     "execution_count": 311,
     "metadata": {},
     "output_type": "execute_result"
    }
   ],
   "source": [
    "joblib.dump(best_model, './model/best_model')"
   ]
  },
  {
   "cell_type": "code",
   "execution_count": 312,
   "metadata": {},
   "outputs": [
    {
     "data": {
      "text/plain": [
       "array([293566.30023846, 438231.33452698, 359504.09698162, 267468.75866183,\n",
       "       197110.18200902])"
      ]
     },
     "execution_count": 312,
     "metadata": {},
     "output_type": "execute_result"
    }
   ],
   "source": [
    "np.exp(best_model.predict(X_test.iloc[1000:1005]))"
   ]
  },
  {
   "cell_type": "code",
   "execution_count": 314,
   "metadata": {},
   "outputs": [
    {
     "data": {
      "text/html": [
       "<div>\n",
       "<style scoped>\n",
       "    .dataframe tbody tr th:only-of-type {\n",
       "        vertical-align: middle;\n",
       "    }\n",
       "\n",
       "    .dataframe tbody tr th {\n",
       "        vertical-align: top;\n",
       "    }\n",
       "\n",
       "    .dataframe thead th {\n",
       "        text-align: right;\n",
       "    }\n",
       "</style>\n",
       "<table border=\"1\" class=\"dataframe\">\n",
       "  <thead>\n",
       "    <tr style=\"text-align: right;\">\n",
       "      <th></th>\n",
       "      <th>Unnamed: 0</th>\n",
       "      <th>Location</th>\n",
       "      <th>Property type</th>\n",
       "      <th>Property subtype</th>\n",
       "      <th>Price</th>\n",
       "      <th>Type of sale</th>\n",
       "      <th>Number of bedrooms</th>\n",
       "      <th>Living area</th>\n",
       "      <th>Kitchen</th>\n",
       "      <th>Furnished</th>\n",
       "      <th>Open fireplace</th>\n",
       "      <th>Terrace</th>\n",
       "      <th>Terrace orientation</th>\n",
       "      <th>Garden</th>\n",
       "      <th>Garden orientation</th>\n",
       "      <th>Surface area land</th>\n",
       "      <th>Number of facades</th>\n",
       "      <th>Pool</th>\n",
       "      <th>Condition</th>\n",
       "      <th>Price_log</th>\n",
       "    </tr>\n",
       "  </thead>\n",
       "  <tbody>\n",
       "    <tr>\n",
       "      <th>9035</th>\n",
       "      <td>9035</td>\n",
       "      <td>Uccle</td>\n",
       "      <td>HOUSE</td>\n",
       "      <td>HOUSE</td>\n",
       "      <td>430000.0</td>\n",
       "      <td>residential_sale</td>\n",
       "      <td>4.0</td>\n",
       "      <td>160.0</td>\n",
       "      <td>INSTALLED</td>\n",
       "      <td>False</td>\n",
       "      <td>False</td>\n",
       "      <td>True</td>\n",
       "      <td>Unknown</td>\n",
       "      <td>Unknown</td>\n",
       "      <td>Unknown</td>\n",
       "      <td>91.0</td>\n",
       "      <td>2</td>\n",
       "      <td>NaN</td>\n",
       "      <td>GOOD</td>\n",
       "      <td>12.971540</td>\n",
       "    </tr>\n",
       "    <tr>\n",
       "      <th>7279</th>\n",
       "      <td>7279</td>\n",
       "      <td>Wommelgem</td>\n",
       "      <td>HOUSE</td>\n",
       "      <td>HOUSE</td>\n",
       "      <td>699000.0</td>\n",
       "      <td>residential_sale</td>\n",
       "      <td>4.0</td>\n",
       "      <td>269.0</td>\n",
       "      <td>INSTALLED</td>\n",
       "      <td>False</td>\n",
       "      <td>False</td>\n",
       "      <td>Unknown</td>\n",
       "      <td>Unknown</td>\n",
       "      <td>True</td>\n",
       "      <td>NORTH_WEST</td>\n",
       "      <td>1778.0</td>\n",
       "      <td>4</td>\n",
       "      <td>NaN</td>\n",
       "      <td>GOOD</td>\n",
       "      <td>13.457406</td>\n",
       "    </tr>\n",
       "    <tr>\n",
       "      <th>365</th>\n",
       "      <td>365</td>\n",
       "      <td>Oudenburg</td>\n",
       "      <td>HOUSE</td>\n",
       "      <td>HOUSE</td>\n",
       "      <td>310000.0</td>\n",
       "      <td>residential_sale</td>\n",
       "      <td>3.0</td>\n",
       "      <td>241.0</td>\n",
       "      <td>Unknown</td>\n",
       "      <td>NaN</td>\n",
       "      <td>False</td>\n",
       "      <td>Unknown</td>\n",
       "      <td>Unknown</td>\n",
       "      <td>Unknown</td>\n",
       "      <td>Unknown</td>\n",
       "      <td>839.0</td>\n",
       "      <td>Unknown</td>\n",
       "      <td>False</td>\n",
       "      <td>Unknown</td>\n",
       "      <td>12.644328</td>\n",
       "    </tr>\n",
       "    <tr>\n",
       "      <th>3855</th>\n",
       "      <td>3855</td>\n",
       "      <td>St-Amandsberg</td>\n",
       "      <td>HOUSE</td>\n",
       "      <td>HOUSE</td>\n",
       "      <td>219000.0</td>\n",
       "      <td>residential_sale</td>\n",
       "      <td>4.0</td>\n",
       "      <td>155.0</td>\n",
       "      <td>SEMI_EQUIPPED</td>\n",
       "      <td>False</td>\n",
       "      <td>False</td>\n",
       "      <td>Unknown</td>\n",
       "      <td>Unknown</td>\n",
       "      <td>Unknown</td>\n",
       "      <td>Unknown</td>\n",
       "      <td>80.0</td>\n",
       "      <td>2</td>\n",
       "      <td>NaN</td>\n",
       "      <td>TO_RENOVATE</td>\n",
       "      <td>12.296827</td>\n",
       "    </tr>\n",
       "    <tr>\n",
       "      <th>752</th>\n",
       "      <td>752</td>\n",
       "      <td>Lembeek</td>\n",
       "      <td>HOUSE</td>\n",
       "      <td>HOUSE</td>\n",
       "      <td>360000.0</td>\n",
       "      <td>residential_sale</td>\n",
       "      <td>2.0</td>\n",
       "      <td>92.0</td>\n",
       "      <td>INSTALLED</td>\n",
       "      <td>NaN</td>\n",
       "      <td>False</td>\n",
       "      <td>True</td>\n",
       "      <td>Unknown</td>\n",
       "      <td>Unknown</td>\n",
       "      <td>Unknown</td>\n",
       "      <td>2971.0</td>\n",
       "      <td>4</td>\n",
       "      <td>NaN</td>\n",
       "      <td>NaN</td>\n",
       "      <td>12.793859</td>\n",
       "    </tr>\n",
       "  </tbody>\n",
       "</table>\n",
       "</div>"
      ],
      "text/plain": [
       "      Unnamed: 0       Location Property type Property subtype     Price  \\\n",
       "9035        9035          Uccle         HOUSE            HOUSE  430000.0   \n",
       "7279        7279      Wommelgem         HOUSE            HOUSE  699000.0   \n",
       "365          365      Oudenburg         HOUSE            HOUSE  310000.0   \n",
       "3855        3855  St-Amandsberg         HOUSE            HOUSE  219000.0   \n",
       "752          752        Lembeek         HOUSE            HOUSE  360000.0   \n",
       "\n",
       "          Type of sale  Number of bedrooms  Living area        Kitchen  \\\n",
       "9035  residential_sale                 4.0        160.0      INSTALLED   \n",
       "7279  residential_sale                 4.0        269.0      INSTALLED   \n",
       "365   residential_sale                 3.0        241.0        Unknown   \n",
       "3855  residential_sale                 4.0        155.0  SEMI_EQUIPPED   \n",
       "752   residential_sale                 2.0         92.0      INSTALLED   \n",
       "\n",
       "     Furnished  Open fireplace  Terrace Terrace orientation   Garden  \\\n",
       "9035     False           False     True             Unknown  Unknown   \n",
       "7279     False           False  Unknown             Unknown     True   \n",
       "365        NaN           False  Unknown             Unknown  Unknown   \n",
       "3855     False           False  Unknown             Unknown  Unknown   \n",
       "752        NaN           False     True             Unknown  Unknown   \n",
       "\n",
       "     Garden orientation  Surface area land Number of facades   Pool  \\\n",
       "9035            Unknown               91.0                 2    NaN   \n",
       "7279         NORTH_WEST             1778.0                 4    NaN   \n",
       "365             Unknown              839.0           Unknown  False   \n",
       "3855            Unknown               80.0                 2    NaN   \n",
       "752             Unknown             2971.0                 4    NaN   \n",
       "\n",
       "        Condition  Price_log  \n",
       "9035         GOOD  12.971540  \n",
       "7279         GOOD  13.457406  \n",
       "365       Unknown  12.644328  \n",
       "3855  TO_RENOVATE  12.296827  \n",
       "752           NaN  12.793859  "
      ]
     },
     "execution_count": 314,
     "metadata": {},
     "output_type": "execute_result"
    }
   ],
   "source": [
    "df.loc[X_test.iloc[1000:1005].index]"
   ]
  },
  {
   "cell_type": "code",
   "execution_count": 348,
   "metadata": {},
   "outputs": [],
   "source": [
    "y_pred = np.exp(best_model.predict(X_test))\n",
    "y_true = df_final.loc[X_test.index]['Price']"
   ]
  },
  {
   "cell_type": "code",
   "execution_count": 322,
   "metadata": {},
   "outputs": [
    {
     "data": {
      "text/plain": [
       "array([324416.04705846, 198133.41656107, 274320.04282725, ...,\n",
       "       385882.70657537, 341183.33929211, 281026.19038773])"
      ]
     },
     "execution_count": 322,
     "metadata": {},
     "output_type": "execute_result"
    }
   ],
   "source": [
    "y_pred"
   ]
  },
  {
   "cell_type": "code",
   "execution_count": 324,
   "metadata": {},
   "outputs": [
    {
     "data": {
      "text/plain": [
       "4905     425000.0\n",
       "6771     190000.0\n",
       "3085     425000.0\n",
       "8650     229900.0\n",
       "7218     235000.0\n",
       "          ...    \n",
       "4561    1300000.0\n",
       "6518     235000.0\n",
       "6924     445000.0\n",
       "5054     429000.0\n",
       "2560     249500.0\n",
       "Name: Price, Length: 1382, dtype: float64"
      ]
     },
     "execution_count": 324,
     "metadata": {},
     "output_type": "execute_result"
    }
   ],
   "source": [
    "y_true"
   ]
  },
  {
   "cell_type": "code",
   "execution_count": 373,
   "metadata": {},
   "outputs": [
    {
     "data": {
      "text/plain": [
       "0.586322432868781"
      ]
     },
     "execution_count": 373,
     "metadata": {},
     "output_type": "execute_result"
    }
   ],
   "source": [
    "from sklearn.metrics import r2_score\n",
    "\n",
    "r2_score(y_true, y_pred)"
   ]
  },
  {
   "cell_type": "code",
   "execution_count": 352,
   "metadata": {},
   "outputs": [
    {
     "data": {
      "text/plain": [
       "0.299473780986224"
      ]
     },
     "execution_count": 352,
     "metadata": {},
     "output_type": "execute_result"
    }
   ],
   "source": [
    "np.abs(y_pred/y_true - 1).mean()"
   ]
  },
  {
   "cell_type": "code",
   "execution_count": 376,
   "metadata": {},
   "outputs": [],
   "source": [
    "worst = (y_pred/y_true).sort_values()[-20:]\n",
    "worst_down = (y_pred/y_true).sort_values(ascending=False)[-20:]"
   ]
  },
  {
   "cell_type": "code",
   "execution_count": 372,
   "metadata": {},
   "outputs": [
    {
     "data": {
      "text/html": [
       "<div>\n",
       "<style scoped>\n",
       "    .dataframe tbody tr th:only-of-type {\n",
       "        vertical-align: middle;\n",
       "    }\n",
       "\n",
       "    .dataframe tbody tr th {\n",
       "        vertical-align: top;\n",
       "    }\n",
       "\n",
       "    .dataframe thead th {\n",
       "        text-align: right;\n",
       "    }\n",
       "</style>\n",
       "<table border=\"1\" class=\"dataframe\">\n",
       "  <thead>\n",
       "    <tr style=\"text-align: right;\">\n",
       "      <th></th>\n",
       "      <th>Unnamed: 0</th>\n",
       "      <th>Location</th>\n",
       "      <th>Property type</th>\n",
       "      <th>Property subtype</th>\n",
       "      <th>Price</th>\n",
       "      <th>Type of sale</th>\n",
       "      <th>Number of bedrooms</th>\n",
       "      <th>Living area</th>\n",
       "      <th>Kitchen</th>\n",
       "      <th>Furnished</th>\n",
       "      <th>Open fireplace</th>\n",
       "      <th>Terrace</th>\n",
       "      <th>Terrace orientation</th>\n",
       "      <th>Garden</th>\n",
       "      <th>Garden orientation</th>\n",
       "      <th>Surface area land</th>\n",
       "      <th>Number of facades</th>\n",
       "      <th>Pool</th>\n",
       "      <th>Condition</th>\n",
       "      <th>Price_log</th>\n",
       "    </tr>\n",
       "  </thead>\n",
       "  <tbody>\n",
       "    <tr>\n",
       "      <th>3992</th>\n",
       "      <td>3992</td>\n",
       "      <td>Beauraing</td>\n",
       "      <td>HOUSE</td>\n",
       "      <td>HOUSE</td>\n",
       "      <td>119000.0</td>\n",
       "      <td>residential_sale</td>\n",
       "      <td>4.0</td>\n",
       "      <td>165.0</td>\n",
       "      <td>INSTALLED</td>\n",
       "      <td>False</td>\n",
       "      <td>False</td>\n",
       "      <td>True</td>\n",
       "      <td>Unknown</td>\n",
       "      <td>Unknown</td>\n",
       "      <td>Unknown</td>\n",
       "      <td>120.0</td>\n",
       "      <td>2</td>\n",
       "      <td>False</td>\n",
       "      <td>TO_BE_DONE_UP</td>\n",
       "      <td>11.686879</td>\n",
       "    </tr>\n",
       "    <tr>\n",
       "      <th>9395</th>\n",
       "      <td>9395</td>\n",
       "      <td>Ninove</td>\n",
       "      <td>HOUSE</td>\n",
       "      <td>MIXED_USE_BUILDING</td>\n",
       "      <td>110000.0</td>\n",
       "      <td>residential_sale</td>\n",
       "      <td>2.0</td>\n",
       "      <td>149.0</td>\n",
       "      <td>INSTALLED</td>\n",
       "      <td>False</td>\n",
       "      <td>False</td>\n",
       "      <td>True</td>\n",
       "      <td>Unknown</td>\n",
       "      <td>Unknown</td>\n",
       "      <td>Unknown</td>\n",
       "      <td>129.0</td>\n",
       "      <td>2</td>\n",
       "      <td>False</td>\n",
       "      <td>TO_RENOVATE</td>\n",
       "      <td>11.608236</td>\n",
       "    </tr>\n",
       "    <tr>\n",
       "      <th>6241</th>\n",
       "      <td>6241</td>\n",
       "      <td>Manage</td>\n",
       "      <td>HOUSE</td>\n",
       "      <td>HOUSE</td>\n",
       "      <td>70000.0</td>\n",
       "      <td>residential_sale</td>\n",
       "      <td>2.0</td>\n",
       "      <td>95.0</td>\n",
       "      <td>INSTALLED</td>\n",
       "      <td>NaN</td>\n",
       "      <td>False</td>\n",
       "      <td>Unknown</td>\n",
       "      <td>Unknown</td>\n",
       "      <td>Unknown</td>\n",
       "      <td>Unknown</td>\n",
       "      <td>46.0</td>\n",
       "      <td>2</td>\n",
       "      <td>NaN</td>\n",
       "      <td>TO_RENOVATE</td>\n",
       "      <td>11.156251</td>\n",
       "    </tr>\n",
       "    <tr>\n",
       "      <th>3150</th>\n",
       "      <td>3150</td>\n",
       "      <td>Chatelineau</td>\n",
       "      <td>HOUSE</td>\n",
       "      <td>APARTMENT_BLOCK</td>\n",
       "      <td>375000.0</td>\n",
       "      <td>residential_sale</td>\n",
       "      <td>4.0</td>\n",
       "      <td>533.0</td>\n",
       "      <td>INSTALLED</td>\n",
       "      <td>False</td>\n",
       "      <td>False</td>\n",
       "      <td>Unknown</td>\n",
       "      <td>Unknown</td>\n",
       "      <td>Unknown</td>\n",
       "      <td>Unknown</td>\n",
       "      <td>165.0</td>\n",
       "      <td>2</td>\n",
       "      <td>NaN</td>\n",
       "      <td>NaN</td>\n",
       "      <td>12.834681</td>\n",
       "    </tr>\n",
       "    <tr>\n",
       "      <th>2446</th>\n",
       "      <td>2446</td>\n",
       "      <td>Graide</td>\n",
       "      <td>HOUSE</td>\n",
       "      <td>HOUSE</td>\n",
       "      <td>100000.0</td>\n",
       "      <td>residential_sale</td>\n",
       "      <td>4.0</td>\n",
       "      <td>140.0</td>\n",
       "      <td>INSTALLED</td>\n",
       "      <td>False</td>\n",
       "      <td>False</td>\n",
       "      <td>Unknown</td>\n",
       "      <td>Unknown</td>\n",
       "      <td>True</td>\n",
       "      <td>EAST</td>\n",
       "      <td>692.0</td>\n",
       "      <td>3</td>\n",
       "      <td>NaN</td>\n",
       "      <td>TO_RENOVATE</td>\n",
       "      <td>11.512925</td>\n",
       "    </tr>\n",
       "    <tr>\n",
       "      <th>2990</th>\n",
       "      <td>2990</td>\n",
       "      <td>Villers-la-Ville</td>\n",
       "      <td>HOUSE</td>\n",
       "      <td>HOUSE</td>\n",
       "      <td>120000.0</td>\n",
       "      <td>residential_sale</td>\n",
       "      <td>2.0</td>\n",
       "      <td>1189.0</td>\n",
       "      <td>Unknown</td>\n",
       "      <td>False</td>\n",
       "      <td>False</td>\n",
       "      <td>Unknown</td>\n",
       "      <td>Unknown</td>\n",
       "      <td>True</td>\n",
       "      <td>SOUTH_WEST</td>\n",
       "      <td>1189.0</td>\n",
       "      <td>3</td>\n",
       "      <td>False</td>\n",
       "      <td>TO_RENOVATE</td>\n",
       "      <td>11.695247</td>\n",
       "    </tr>\n",
       "    <tr>\n",
       "      <th>7748</th>\n",
       "      <td>7748</td>\n",
       "      <td>Paliseul</td>\n",
       "      <td>HOUSE</td>\n",
       "      <td>HOUSE</td>\n",
       "      <td>130000.0</td>\n",
       "      <td>residential_sale</td>\n",
       "      <td>4.0</td>\n",
       "      <td>250.0</td>\n",
       "      <td>Unknown</td>\n",
       "      <td>NaN</td>\n",
       "      <td>False</td>\n",
       "      <td>Unknown</td>\n",
       "      <td>Unknown</td>\n",
       "      <td>Unknown</td>\n",
       "      <td>Unknown</td>\n",
       "      <td>1750.0</td>\n",
       "      <td>4</td>\n",
       "      <td>NaN</td>\n",
       "      <td>TO_RENOVATE</td>\n",
       "      <td>11.775290</td>\n",
       "    </tr>\n",
       "    <tr>\n",
       "      <th>9278</th>\n",
       "      <td>9278</td>\n",
       "      <td>HAININ</td>\n",
       "      <td>HOUSE</td>\n",
       "      <td>HOUSE</td>\n",
       "      <td>100000.0</td>\n",
       "      <td>residential_sale</td>\n",
       "      <td>3.0</td>\n",
       "      <td>179.0</td>\n",
       "      <td>SEMI_EQUIPPED</td>\n",
       "      <td>NaN</td>\n",
       "      <td>False</td>\n",
       "      <td>Unknown</td>\n",
       "      <td>Unknown</td>\n",
       "      <td>True</td>\n",
       "      <td>Unknown</td>\n",
       "      <td>202.0</td>\n",
       "      <td>2</td>\n",
       "      <td>NaN</td>\n",
       "      <td>NaN</td>\n",
       "      <td>11.512925</td>\n",
       "    </tr>\n",
       "    <tr>\n",
       "      <th>4990</th>\n",
       "      <td>4990</td>\n",
       "      <td>Charleroi</td>\n",
       "      <td>HOUSE</td>\n",
       "      <td>HOUSE</td>\n",
       "      <td>100000.0</td>\n",
       "      <td>residential_sale</td>\n",
       "      <td>4.0</td>\n",
       "      <td>160.0</td>\n",
       "      <td>Unknown</td>\n",
       "      <td>False</td>\n",
       "      <td>False</td>\n",
       "      <td>Unknown</td>\n",
       "      <td>Unknown</td>\n",
       "      <td>Unknown</td>\n",
       "      <td>Unknown</td>\n",
       "      <td>90.0</td>\n",
       "      <td>2</td>\n",
       "      <td>NaN</td>\n",
       "      <td>TO_RENOVATE</td>\n",
       "      <td>11.512925</td>\n",
       "    </tr>\n",
       "    <tr>\n",
       "      <th>9885</th>\n",
       "      <td>9885</td>\n",
       "      <td>Olloy-sur-Viroin</td>\n",
       "      <td>HOUSE</td>\n",
       "      <td>HOUSE</td>\n",
       "      <td>158000.0</td>\n",
       "      <td>residential_sale</td>\n",
       "      <td>3.0</td>\n",
       "      <td>500.0</td>\n",
       "      <td>SEMI_EQUIPPED</td>\n",
       "      <td>False</td>\n",
       "      <td>False</td>\n",
       "      <td>True</td>\n",
       "      <td>Unknown</td>\n",
       "      <td>True</td>\n",
       "      <td>Unknown</td>\n",
       "      <td>1613.0</td>\n",
       "      <td>3</td>\n",
       "      <td>NaN</td>\n",
       "      <td>NaN</td>\n",
       "      <td>11.970350</td>\n",
       "    </tr>\n",
       "    <tr>\n",
       "      <th>6275</th>\n",
       "      <td>6275</td>\n",
       "      <td>Dampremy</td>\n",
       "      <td>HOUSE</td>\n",
       "      <td>HOUSE</td>\n",
       "      <td>79000.0</td>\n",
       "      <td>residential_sale</td>\n",
       "      <td>3.0</td>\n",
       "      <td>120.0</td>\n",
       "      <td>INSTALLED</td>\n",
       "      <td>False</td>\n",
       "      <td>False</td>\n",
       "      <td>True</td>\n",
       "      <td>Unknown</td>\n",
       "      <td>Unknown</td>\n",
       "      <td>Unknown</td>\n",
       "      <td>86.0</td>\n",
       "      <td>3</td>\n",
       "      <td>NaN</td>\n",
       "      <td>NaN</td>\n",
       "      <td>11.277203</td>\n",
       "    </tr>\n",
       "    <tr>\n",
       "      <th>5819</th>\n",
       "      <td>5819</td>\n",
       "      <td>Jamoigne</td>\n",
       "      <td>HOUSE</td>\n",
       "      <td>HOUSE</td>\n",
       "      <td>85000.0</td>\n",
       "      <td>first_session_with_reserve_price</td>\n",
       "      <td>3.0</td>\n",
       "      <td>148.0</td>\n",
       "      <td>Unknown</td>\n",
       "      <td>NaN</td>\n",
       "      <td>False</td>\n",
       "      <td>Unknown</td>\n",
       "      <td>Unknown</td>\n",
       "      <td>Unknown</td>\n",
       "      <td>Unknown</td>\n",
       "      <td>170.0</td>\n",
       "      <td>3</td>\n",
       "      <td>NaN</td>\n",
       "      <td>TO_RENOVATE</td>\n",
       "      <td>11.350407</td>\n",
       "    </tr>\n",
       "    <tr>\n",
       "      <th>3010</th>\n",
       "      <td>3010</td>\n",
       "      <td>Hornu</td>\n",
       "      <td>HOUSE</td>\n",
       "      <td>HOUSE</td>\n",
       "      <td>79000.0</td>\n",
       "      <td>residential_sale</td>\n",
       "      <td>4.0</td>\n",
       "      <td>144.0</td>\n",
       "      <td>INSTALLED</td>\n",
       "      <td>False</td>\n",
       "      <td>False</td>\n",
       "      <td>Unknown</td>\n",
       "      <td>Unknown</td>\n",
       "      <td>Unknown</td>\n",
       "      <td>Unknown</td>\n",
       "      <td>170.0</td>\n",
       "      <td>2</td>\n",
       "      <td>NaN</td>\n",
       "      <td>NaN</td>\n",
       "      <td>11.277203</td>\n",
       "    </tr>\n",
       "    <tr>\n",
       "      <th>7696</th>\n",
       "      <td>7696</td>\n",
       "      <td>Bertrix</td>\n",
       "      <td>HOUSE</td>\n",
       "      <td>MIXED_USE_BUILDING</td>\n",
       "      <td>150000.0</td>\n",
       "      <td>residential_sale</td>\n",
       "      <td>3.0</td>\n",
       "      <td>452.0</td>\n",
       "      <td>SEMI_EQUIPPED</td>\n",
       "      <td>False</td>\n",
       "      <td>False</td>\n",
       "      <td>Unknown</td>\n",
       "      <td>Unknown</td>\n",
       "      <td>Unknown</td>\n",
       "      <td>Unknown</td>\n",
       "      <td>452.0</td>\n",
       "      <td>2</td>\n",
       "      <td>NaN</td>\n",
       "      <td>TO_RENOVATE</td>\n",
       "      <td>11.918391</td>\n",
       "    </tr>\n",
       "    <tr>\n",
       "      <th>774</th>\n",
       "      <td>774</td>\n",
       "      <td>Falisolle</td>\n",
       "      <td>HOUSE</td>\n",
       "      <td>HOUSE</td>\n",
       "      <td>95000.0</td>\n",
       "      <td>residential_sale</td>\n",
       "      <td>3.0</td>\n",
       "      <td>220.0</td>\n",
       "      <td>NOT_INSTALLED</td>\n",
       "      <td>NaN</td>\n",
       "      <td>False</td>\n",
       "      <td>Unknown</td>\n",
       "      <td>Unknown</td>\n",
       "      <td>Unknown</td>\n",
       "      <td>Unknown</td>\n",
       "      <td>960.0</td>\n",
       "      <td>3</td>\n",
       "      <td>NaN</td>\n",
       "      <td>TO_RENOVATE</td>\n",
       "      <td>11.461632</td>\n",
       "    </tr>\n",
       "    <tr>\n",
       "      <th>3508</th>\n",
       "      <td>3508</td>\n",
       "      <td>Peruwelz</td>\n",
       "      <td>HOUSE</td>\n",
       "      <td>HOUSE</td>\n",
       "      <td>125000.0</td>\n",
       "      <td>residential_sale</td>\n",
       "      <td>5.0</td>\n",
       "      <td>360.0</td>\n",
       "      <td>INSTALLED</td>\n",
       "      <td>NaN</td>\n",
       "      <td>False</td>\n",
       "      <td>Unknown</td>\n",
       "      <td>Unknown</td>\n",
       "      <td>Unknown</td>\n",
       "      <td>Unknown</td>\n",
       "      <td>194.0</td>\n",
       "      <td>2</td>\n",
       "      <td>NaN</td>\n",
       "      <td>TO_BE_DONE_UP</td>\n",
       "      <td>11.736069</td>\n",
       "    </tr>\n",
       "    <tr>\n",
       "      <th>3988</th>\n",
       "      <td>3988</td>\n",
       "      <td>Seraing</td>\n",
       "      <td>HOUSE</td>\n",
       "      <td>HOUSE</td>\n",
       "      <td>89000.0</td>\n",
       "      <td>residential_sale</td>\n",
       "      <td>3.0</td>\n",
       "      <td>220.0</td>\n",
       "      <td>SEMI_EQUIPPED</td>\n",
       "      <td>False</td>\n",
       "      <td>False</td>\n",
       "      <td>Unknown</td>\n",
       "      <td>Unknown</td>\n",
       "      <td>True</td>\n",
       "      <td>Unknown</td>\n",
       "      <td>286.0</td>\n",
       "      <td>2</td>\n",
       "      <td>False</td>\n",
       "      <td>TO_RENOVATE</td>\n",
       "      <td>11.396392</td>\n",
       "    </tr>\n",
       "    <tr>\n",
       "      <th>8599</th>\n",
       "      <td>8599</td>\n",
       "      <td>Erquelinnes</td>\n",
       "      <td>HOUSE</td>\n",
       "      <td>HOUSE</td>\n",
       "      <td>90000.0</td>\n",
       "      <td>first_session_with_reserve_price</td>\n",
       "      <td>3.0</td>\n",
       "      <td>229.0</td>\n",
       "      <td>Unknown</td>\n",
       "      <td>NaN</td>\n",
       "      <td>False</td>\n",
       "      <td>True</td>\n",
       "      <td>Unknown</td>\n",
       "      <td>Unknown</td>\n",
       "      <td>Unknown</td>\n",
       "      <td>300.0</td>\n",
       "      <td>2</td>\n",
       "      <td>NaN</td>\n",
       "      <td>NaN</td>\n",
       "      <td>11.407565</td>\n",
       "    </tr>\n",
       "    <tr>\n",
       "      <th>4840</th>\n",
       "      <td>4840</td>\n",
       "      <td>Givry</td>\n",
       "      <td>HOUSE</td>\n",
       "      <td>HOUSE</td>\n",
       "      <td>60000.0</td>\n",
       "      <td>residential_sale</td>\n",
       "      <td>4.0</td>\n",
       "      <td>173.0</td>\n",
       "      <td>Unknown</td>\n",
       "      <td>False</td>\n",
       "      <td>False</td>\n",
       "      <td>True</td>\n",
       "      <td>Unknown</td>\n",
       "      <td>Unknown</td>\n",
       "      <td>Unknown</td>\n",
       "      <td>310.0</td>\n",
       "      <td>2</td>\n",
       "      <td>NaN</td>\n",
       "      <td>TO_RENOVATE</td>\n",
       "      <td>11.002100</td>\n",
       "    </tr>\n",
       "    <tr>\n",
       "      <th>3236</th>\n",
       "      <td>3236</td>\n",
       "      <td>Bievre</td>\n",
       "      <td>HOUSE</td>\n",
       "      <td>HOUSE</td>\n",
       "      <td>49999.0</td>\n",
       "      <td>residential_sale</td>\n",
       "      <td>5.0</td>\n",
       "      <td>180.0</td>\n",
       "      <td>Unknown</td>\n",
       "      <td>False</td>\n",
       "      <td>False</td>\n",
       "      <td>Unknown</td>\n",
       "      <td>Unknown</td>\n",
       "      <td>Unknown</td>\n",
       "      <td>Unknown</td>\n",
       "      <td>72.0</td>\n",
       "      <td>3</td>\n",
       "      <td>NaN</td>\n",
       "      <td>TO_RENOVATE</td>\n",
       "      <td>10.819758</td>\n",
       "    </tr>\n",
       "  </tbody>\n",
       "</table>\n",
       "</div>"
      ],
      "text/plain": [
       "      Unnamed: 0          Location Property type    Property subtype  \\\n",
       "3992        3992         Beauraing         HOUSE               HOUSE   \n",
       "9395        9395            Ninove         HOUSE  MIXED_USE_BUILDING   \n",
       "6241        6241            Manage         HOUSE               HOUSE   \n",
       "3150        3150       Chatelineau         HOUSE     APARTMENT_BLOCK   \n",
       "2446        2446            Graide         HOUSE               HOUSE   \n",
       "2990        2990  Villers-la-Ville         HOUSE               HOUSE   \n",
       "7748        7748          Paliseul         HOUSE               HOUSE   \n",
       "9278        9278            HAININ         HOUSE               HOUSE   \n",
       "4990        4990         Charleroi         HOUSE               HOUSE   \n",
       "9885        9885  Olloy-sur-Viroin         HOUSE               HOUSE   \n",
       "6275        6275          Dampremy         HOUSE               HOUSE   \n",
       "5819        5819          Jamoigne         HOUSE               HOUSE   \n",
       "3010        3010             Hornu         HOUSE               HOUSE   \n",
       "7696        7696           Bertrix         HOUSE  MIXED_USE_BUILDING   \n",
       "774          774         Falisolle         HOUSE               HOUSE   \n",
       "3508        3508          Peruwelz         HOUSE               HOUSE   \n",
       "3988        3988           Seraing         HOUSE               HOUSE   \n",
       "8599        8599       Erquelinnes         HOUSE               HOUSE   \n",
       "4840        4840             Givry         HOUSE               HOUSE   \n",
       "3236        3236            Bievre         HOUSE               HOUSE   \n",
       "\n",
       "         Price                      Type of sale  Number of bedrooms  \\\n",
       "3992  119000.0                  residential_sale                 4.0   \n",
       "9395  110000.0                  residential_sale                 2.0   \n",
       "6241   70000.0                  residential_sale                 2.0   \n",
       "3150  375000.0                  residential_sale                 4.0   \n",
       "2446  100000.0                  residential_sale                 4.0   \n",
       "2990  120000.0                  residential_sale                 2.0   \n",
       "7748  130000.0                  residential_sale                 4.0   \n",
       "9278  100000.0                  residential_sale                 3.0   \n",
       "4990  100000.0                  residential_sale                 4.0   \n",
       "9885  158000.0                  residential_sale                 3.0   \n",
       "6275   79000.0                  residential_sale                 3.0   \n",
       "5819   85000.0  first_session_with_reserve_price                 3.0   \n",
       "3010   79000.0                  residential_sale                 4.0   \n",
       "7696  150000.0                  residential_sale                 3.0   \n",
       "774    95000.0                  residential_sale                 3.0   \n",
       "3508  125000.0                  residential_sale                 5.0   \n",
       "3988   89000.0                  residential_sale                 3.0   \n",
       "8599   90000.0  first_session_with_reserve_price                 3.0   \n",
       "4840   60000.0                  residential_sale                 4.0   \n",
       "3236   49999.0                  residential_sale                 5.0   \n",
       "\n",
       "      Living area        Kitchen Furnished  Open fireplace  Terrace  \\\n",
       "3992        165.0      INSTALLED     False           False     True   \n",
       "9395        149.0      INSTALLED     False           False     True   \n",
       "6241         95.0      INSTALLED       NaN           False  Unknown   \n",
       "3150        533.0      INSTALLED     False           False  Unknown   \n",
       "2446        140.0      INSTALLED     False           False  Unknown   \n",
       "2990       1189.0        Unknown     False           False  Unknown   \n",
       "7748        250.0        Unknown       NaN           False  Unknown   \n",
       "9278        179.0  SEMI_EQUIPPED       NaN           False  Unknown   \n",
       "4990        160.0        Unknown     False           False  Unknown   \n",
       "9885        500.0  SEMI_EQUIPPED     False           False     True   \n",
       "6275        120.0      INSTALLED     False           False     True   \n",
       "5819        148.0        Unknown       NaN           False  Unknown   \n",
       "3010        144.0      INSTALLED     False           False  Unknown   \n",
       "7696        452.0  SEMI_EQUIPPED     False           False  Unknown   \n",
       "774         220.0  NOT_INSTALLED       NaN           False  Unknown   \n",
       "3508        360.0      INSTALLED       NaN           False  Unknown   \n",
       "3988        220.0  SEMI_EQUIPPED     False           False  Unknown   \n",
       "8599        229.0        Unknown       NaN           False     True   \n",
       "4840        173.0        Unknown     False           False     True   \n",
       "3236        180.0        Unknown     False           False  Unknown   \n",
       "\n",
       "     Terrace orientation   Garden Garden orientation  Surface area land  \\\n",
       "3992             Unknown  Unknown            Unknown              120.0   \n",
       "9395             Unknown  Unknown            Unknown              129.0   \n",
       "6241             Unknown  Unknown            Unknown               46.0   \n",
       "3150             Unknown  Unknown            Unknown              165.0   \n",
       "2446             Unknown     True               EAST              692.0   \n",
       "2990             Unknown     True         SOUTH_WEST             1189.0   \n",
       "7748             Unknown  Unknown            Unknown             1750.0   \n",
       "9278             Unknown     True            Unknown              202.0   \n",
       "4990             Unknown  Unknown            Unknown               90.0   \n",
       "9885             Unknown     True            Unknown             1613.0   \n",
       "6275             Unknown  Unknown            Unknown               86.0   \n",
       "5819             Unknown  Unknown            Unknown              170.0   \n",
       "3010             Unknown  Unknown            Unknown              170.0   \n",
       "7696             Unknown  Unknown            Unknown              452.0   \n",
       "774              Unknown  Unknown            Unknown              960.0   \n",
       "3508             Unknown  Unknown            Unknown              194.0   \n",
       "3988             Unknown     True            Unknown              286.0   \n",
       "8599             Unknown  Unknown            Unknown              300.0   \n",
       "4840             Unknown  Unknown            Unknown              310.0   \n",
       "3236             Unknown  Unknown            Unknown               72.0   \n",
       "\n",
       "     Number of facades   Pool      Condition  Price_log  \n",
       "3992                 2  False  TO_BE_DONE_UP  11.686879  \n",
       "9395                 2  False    TO_RENOVATE  11.608236  \n",
       "6241                 2    NaN    TO_RENOVATE  11.156251  \n",
       "3150                 2    NaN            NaN  12.834681  \n",
       "2446                 3    NaN    TO_RENOVATE  11.512925  \n",
       "2990                 3  False    TO_RENOVATE  11.695247  \n",
       "7748                 4    NaN    TO_RENOVATE  11.775290  \n",
       "9278                 2    NaN            NaN  11.512925  \n",
       "4990                 2    NaN    TO_RENOVATE  11.512925  \n",
       "9885                 3    NaN            NaN  11.970350  \n",
       "6275                 3    NaN            NaN  11.277203  \n",
       "5819                 3    NaN    TO_RENOVATE  11.350407  \n",
       "3010                 2    NaN            NaN  11.277203  \n",
       "7696                 2    NaN    TO_RENOVATE  11.918391  \n",
       "774                  3    NaN    TO_RENOVATE  11.461632  \n",
       "3508                 2    NaN  TO_BE_DONE_UP  11.736069  \n",
       "3988                 2  False    TO_RENOVATE  11.396392  \n",
       "8599                 2    NaN            NaN  11.407565  \n",
       "4840                 2    NaN    TO_RENOVATE  11.002100  \n",
       "3236                 3    NaN    TO_RENOVATE  10.819758  "
      ]
     },
     "execution_count": 372,
     "metadata": {},
     "output_type": "execute_result"
    }
   ],
   "source": [
    "df.loc[worst.index]"
   ]
  },
  {
   "cell_type": "code",
   "execution_count": 377,
   "metadata": {},
   "outputs": [
    {
     "data": {
      "text/html": [
       "<div>\n",
       "<style scoped>\n",
       "    .dataframe tbody tr th:only-of-type {\n",
       "        vertical-align: middle;\n",
       "    }\n",
       "\n",
       "    .dataframe tbody tr th {\n",
       "        vertical-align: top;\n",
       "    }\n",
       "\n",
       "    .dataframe thead th {\n",
       "        text-align: right;\n",
       "    }\n",
       "</style>\n",
       "<table border=\"1\" class=\"dataframe\">\n",
       "  <thead>\n",
       "    <tr style=\"text-align: right;\">\n",
       "      <th></th>\n",
       "      <th>Unnamed: 0</th>\n",
       "      <th>Location</th>\n",
       "      <th>Property type</th>\n",
       "      <th>Property subtype</th>\n",
       "      <th>Price</th>\n",
       "      <th>Type of sale</th>\n",
       "      <th>Number of bedrooms</th>\n",
       "      <th>Living area</th>\n",
       "      <th>Kitchen</th>\n",
       "      <th>Furnished</th>\n",
       "      <th>Open fireplace</th>\n",
       "      <th>Terrace</th>\n",
       "      <th>Terrace orientation</th>\n",
       "      <th>Garden</th>\n",
       "      <th>Garden orientation</th>\n",
       "      <th>Surface area land</th>\n",
       "      <th>Number of facades</th>\n",
       "      <th>Pool</th>\n",
       "      <th>Condition</th>\n",
       "      <th>Price_log</th>\n",
       "    </tr>\n",
       "  </thead>\n",
       "  <tbody>\n",
       "    <tr>\n",
       "      <th>4585</th>\n",
       "      <td>4585</td>\n",
       "      <td>Kapellen</td>\n",
       "      <td>HOUSE</td>\n",
       "      <td>VILLA</td>\n",
       "      <td>935000.0</td>\n",
       "      <td>residential_sale</td>\n",
       "      <td>4.0</td>\n",
       "      <td>141.0</td>\n",
       "      <td>INSTALLED</td>\n",
       "      <td>False</td>\n",
       "      <td>False</td>\n",
       "      <td>True</td>\n",
       "      <td>Unknown</td>\n",
       "      <td>Unknown</td>\n",
       "      <td>Unknown</td>\n",
       "      <td>6723.0</td>\n",
       "      <td>4</td>\n",
       "      <td>True</td>\n",
       "      <td>TO_RENOVATE</td>\n",
       "      <td>13.748302</td>\n",
       "    </tr>\n",
       "    <tr>\n",
       "      <th>472</th>\n",
       "      <td>472</td>\n",
       "      <td>Auderghem</td>\n",
       "      <td>HOUSE</td>\n",
       "      <td>HOUSE</td>\n",
       "      <td>665000.0</td>\n",
       "      <td>residential_sale</td>\n",
       "      <td>4.0</td>\n",
       "      <td>170.0</td>\n",
       "      <td>INSTALLED</td>\n",
       "      <td>False</td>\n",
       "      <td>False</td>\n",
       "      <td>True</td>\n",
       "      <td>Unknown</td>\n",
       "      <td>Unknown</td>\n",
       "      <td>Unknown</td>\n",
       "      <td>90.0</td>\n",
       "      <td>2</td>\n",
       "      <td>NaN</td>\n",
       "      <td>NaN</td>\n",
       "      <td>13.407542</td>\n",
       "    </tr>\n",
       "    <tr>\n",
       "      <th>7938</th>\n",
       "      <td>7938</td>\n",
       "      <td>Uccle</td>\n",
       "      <td>HOUSE</td>\n",
       "      <td>HOUSE</td>\n",
       "      <td>399000.0</td>\n",
       "      <td>residential_sale</td>\n",
       "      <td>3.0</td>\n",
       "      <td>88.0</td>\n",
       "      <td>SEMI_EQUIPPED</td>\n",
       "      <td>False</td>\n",
       "      <td>False</td>\n",
       "      <td>True</td>\n",
       "      <td>Unknown</td>\n",
       "      <td>Unknown</td>\n",
       "      <td>Unknown</td>\n",
       "      <td>53.0</td>\n",
       "      <td>2</td>\n",
       "      <td>False</td>\n",
       "      <td>GOOD</td>\n",
       "      <td>12.896717</td>\n",
       "    </tr>\n",
       "    <tr>\n",
       "      <th>7827</th>\n",
       "      <td>7827</td>\n",
       "      <td>Rhode-Saint-Genèse</td>\n",
       "      <td>HOUSE</td>\n",
       "      <td>EXCEPTIONAL_PROPERTY</td>\n",
       "      <td>3250000.0</td>\n",
       "      <td>residential_sale</td>\n",
       "      <td>5.0</td>\n",
       "      <td>545.0</td>\n",
       "      <td>USA_HYPER_EQUIPPED</td>\n",
       "      <td>NaN</td>\n",
       "      <td>False</td>\n",
       "      <td>True</td>\n",
       "      <td>Unknown</td>\n",
       "      <td>True</td>\n",
       "      <td>Unknown</td>\n",
       "      <td>2003.0</td>\n",
       "      <td>4</td>\n",
       "      <td>True</td>\n",
       "      <td>AS_NEW</td>\n",
       "      <td>14.994166</td>\n",
       "    </tr>\n",
       "    <tr>\n",
       "      <th>9187</th>\n",
       "      <td>9187</td>\n",
       "      <td>Hoeilaart</td>\n",
       "      <td>HOUSE</td>\n",
       "      <td>HOUSE</td>\n",
       "      <td>785000.0</td>\n",
       "      <td>residential_sale</td>\n",
       "      <td>2.0</td>\n",
       "      <td>185.0</td>\n",
       "      <td>INSTALLED</td>\n",
       "      <td>False</td>\n",
       "      <td>False</td>\n",
       "      <td>True</td>\n",
       "      <td>Unknown</td>\n",
       "      <td>True</td>\n",
       "      <td>Unknown</td>\n",
       "      <td>639.0</td>\n",
       "      <td>4</td>\n",
       "      <td>NaN</td>\n",
       "      <td>JUST_RENOVATED</td>\n",
       "      <td>13.573439</td>\n",
       "    </tr>\n",
       "    <tr>\n",
       "      <th>4055</th>\n",
       "      <td>4055</td>\n",
       "      <td>Uccle</td>\n",
       "      <td>HOUSE</td>\n",
       "      <td>HOUSE</td>\n",
       "      <td>685000.0</td>\n",
       "      <td>residential_sale</td>\n",
       "      <td>4.0</td>\n",
       "      <td>170.0</td>\n",
       "      <td>INSTALLED</td>\n",
       "      <td>NaN</td>\n",
       "      <td>False</td>\n",
       "      <td>True</td>\n",
       "      <td>Unknown</td>\n",
       "      <td>Unknown</td>\n",
       "      <td>Unknown</td>\n",
       "      <td>250.0</td>\n",
       "      <td>3</td>\n",
       "      <td>False</td>\n",
       "      <td>GOOD</td>\n",
       "      <td>13.437174</td>\n",
       "    </tr>\n",
       "    <tr>\n",
       "      <th>3806</th>\n",
       "      <td>3806</td>\n",
       "      <td>Woluwe-Saint-Lambert</td>\n",
       "      <td>HOUSE</td>\n",
       "      <td>HOUSE</td>\n",
       "      <td>520000.0</td>\n",
       "      <td>residential_sale</td>\n",
       "      <td>3.0</td>\n",
       "      <td>130.0</td>\n",
       "      <td>USA_INSTALLED</td>\n",
       "      <td>False</td>\n",
       "      <td>False</td>\n",
       "      <td>Unknown</td>\n",
       "      <td>Unknown</td>\n",
       "      <td>Unknown</td>\n",
       "      <td>Unknown</td>\n",
       "      <td>102.0</td>\n",
       "      <td>2</td>\n",
       "      <td>False</td>\n",
       "      <td>AS_NEW</td>\n",
       "      <td>13.161584</td>\n",
       "    </tr>\n",
       "    <tr>\n",
       "      <th>3298</th>\n",
       "      <td>3298</td>\n",
       "      <td>Knokke-Heist</td>\n",
       "      <td>HOUSE</td>\n",
       "      <td>HOUSE</td>\n",
       "      <td>795000.0</td>\n",
       "      <td>residential_sale</td>\n",
       "      <td>3.0</td>\n",
       "      <td>170.0</td>\n",
       "      <td>HYPER_EQUIPPED</td>\n",
       "      <td>False</td>\n",
       "      <td>False</td>\n",
       "      <td>True</td>\n",
       "      <td>Unknown</td>\n",
       "      <td>Unknown</td>\n",
       "      <td>Unknown</td>\n",
       "      <td>276.0</td>\n",
       "      <td>2</td>\n",
       "      <td>False</td>\n",
       "      <td>AS_NEW</td>\n",
       "      <td>13.586097</td>\n",
       "    </tr>\n",
       "    <tr>\n",
       "      <th>5531</th>\n",
       "      <td>5531</td>\n",
       "      <td>Woluwe-Saint-Pierre</td>\n",
       "      <td>HOUSE</td>\n",
       "      <td>EXCEPTIONAL_PROPERTY</td>\n",
       "      <td>3380000.0</td>\n",
       "      <td>residential_sale</td>\n",
       "      <td>7.0</td>\n",
       "      <td>600.0</td>\n",
       "      <td>HYPER_EQUIPPED</td>\n",
       "      <td>False</td>\n",
       "      <td>False</td>\n",
       "      <td>True</td>\n",
       "      <td>Unknown</td>\n",
       "      <td>Unknown</td>\n",
       "      <td>Unknown</td>\n",
       "      <td>1390.0</td>\n",
       "      <td>4</td>\n",
       "      <td>True</td>\n",
       "      <td>AS_NEW</td>\n",
       "      <td>15.033386</td>\n",
       "    </tr>\n",
       "    <tr>\n",
       "      <th>5630</th>\n",
       "      <td>5630</td>\n",
       "      <td>Deurle</td>\n",
       "      <td>HOUSE</td>\n",
       "      <td>HOUSE</td>\n",
       "      <td>585000.0</td>\n",
       "      <td>residential_sale</td>\n",
       "      <td>2.0</td>\n",
       "      <td>161.0</td>\n",
       "      <td>NaN</td>\n",
       "      <td>False</td>\n",
       "      <td>False</td>\n",
       "      <td>True</td>\n",
       "      <td>Unknown</td>\n",
       "      <td>True</td>\n",
       "      <td>SOUTH_EAST</td>\n",
       "      <td>645.0</td>\n",
       "      <td>3</td>\n",
       "      <td>False</td>\n",
       "      <td>AS_NEW</td>\n",
       "      <td>13.279367</td>\n",
       "    </tr>\n",
       "    <tr>\n",
       "      <th>2583</th>\n",
       "      <td>2583</td>\n",
       "      <td>Mechelen</td>\n",
       "      <td>HOUSE</td>\n",
       "      <td>HOUSE</td>\n",
       "      <td>1300000.0</td>\n",
       "      <td>residential_sale</td>\n",
       "      <td>5.0</td>\n",
       "      <td>500.0</td>\n",
       "      <td>INSTALLED</td>\n",
       "      <td>False</td>\n",
       "      <td>True</td>\n",
       "      <td>True</td>\n",
       "      <td>Unknown</td>\n",
       "      <td>True</td>\n",
       "      <td>Unknown</td>\n",
       "      <td>764.0</td>\n",
       "      <td>2</td>\n",
       "      <td>NaN</td>\n",
       "      <td>NaN</td>\n",
       "      <td>14.077875</td>\n",
       "    </tr>\n",
       "    <tr>\n",
       "      <th>8866</th>\n",
       "      <td>8866</td>\n",
       "      <td>Gent</td>\n",
       "      <td>HOUSE</td>\n",
       "      <td>APARTMENT_BLOCK</td>\n",
       "      <td>1095000.0</td>\n",
       "      <td>residential_sale</td>\n",
       "      <td>5.0</td>\n",
       "      <td>240.0</td>\n",
       "      <td>INSTALLED</td>\n",
       "      <td>False</td>\n",
       "      <td>False</td>\n",
       "      <td>Unknown</td>\n",
       "      <td>Unknown</td>\n",
       "      <td>Unknown</td>\n",
       "      <td>Unknown</td>\n",
       "      <td>92.0</td>\n",
       "      <td>2</td>\n",
       "      <td>False</td>\n",
       "      <td>AS_NEW</td>\n",
       "      <td>13.906265</td>\n",
       "    </tr>\n",
       "    <tr>\n",
       "      <th>5795</th>\n",
       "      <td>5795</td>\n",
       "      <td>Woluwe-Saint-Lambert</td>\n",
       "      <td>HOUSE</td>\n",
       "      <td>HOUSE</td>\n",
       "      <td>830000.0</td>\n",
       "      <td>residential_sale</td>\n",
       "      <td>4.0</td>\n",
       "      <td>180.0</td>\n",
       "      <td>HYPER_EQUIPPED</td>\n",
       "      <td>False</td>\n",
       "      <td>False</td>\n",
       "      <td>True</td>\n",
       "      <td>Unknown</td>\n",
       "      <td>True</td>\n",
       "      <td>Unknown</td>\n",
       "      <td>133.0</td>\n",
       "      <td>2</td>\n",
       "      <td>False</td>\n",
       "      <td>GOOD</td>\n",
       "      <td>13.629181</td>\n",
       "    </tr>\n",
       "    <tr>\n",
       "      <th>1095</th>\n",
       "      <td>1095</td>\n",
       "      <td>Leuven</td>\n",
       "      <td>HOUSE</td>\n",
       "      <td>APARTMENT_BLOCK</td>\n",
       "      <td>860000.0</td>\n",
       "      <td>residential_sale</td>\n",
       "      <td>5.0</td>\n",
       "      <td>159.0</td>\n",
       "      <td>Unknown</td>\n",
       "      <td>True</td>\n",
       "      <td>False</td>\n",
       "      <td>True</td>\n",
       "      <td>Unknown</td>\n",
       "      <td>Unknown</td>\n",
       "      <td>Unknown</td>\n",
       "      <td>140.0</td>\n",
       "      <td>2</td>\n",
       "      <td>NaN</td>\n",
       "      <td>AS_NEW</td>\n",
       "      <td>13.664688</td>\n",
       "    </tr>\n",
       "    <tr>\n",
       "      <th>4783</th>\n",
       "      <td>4783</td>\n",
       "      <td>Tielt</td>\n",
       "      <td>HOUSE</td>\n",
       "      <td>HOUSE</td>\n",
       "      <td>395000.0</td>\n",
       "      <td>residential_sale</td>\n",
       "      <td>2.0</td>\n",
       "      <td>81.0</td>\n",
       "      <td>INSTALLED</td>\n",
       "      <td>False</td>\n",
       "      <td>False</td>\n",
       "      <td>Unknown</td>\n",
       "      <td>Unknown</td>\n",
       "      <td>True</td>\n",
       "      <td>NORTH</td>\n",
       "      <td>184.0</td>\n",
       "      <td>3</td>\n",
       "      <td>False</td>\n",
       "      <td>GOOD</td>\n",
       "      <td>12.886641</td>\n",
       "    </tr>\n",
       "    <tr>\n",
       "      <th>1795</th>\n",
       "      <td>1795</td>\n",
       "      <td>Leuven</td>\n",
       "      <td>HOUSE</td>\n",
       "      <td>HOUSE</td>\n",
       "      <td>1940000.0</td>\n",
       "      <td>residential_sale</td>\n",
       "      <td>8.0</td>\n",
       "      <td>295.0</td>\n",
       "      <td>INSTALLED</td>\n",
       "      <td>True</td>\n",
       "      <td>False</td>\n",
       "      <td>True</td>\n",
       "      <td>Unknown</td>\n",
       "      <td>Unknown</td>\n",
       "      <td>Unknown</td>\n",
       "      <td>87.0</td>\n",
       "      <td>Unknown</td>\n",
       "      <td>False</td>\n",
       "      <td>Unknown</td>\n",
       "      <td>14.478199</td>\n",
       "    </tr>\n",
       "    <tr>\n",
       "      <th>9814</th>\n",
       "      <td>9814</td>\n",
       "      <td>Knokke-Heist</td>\n",
       "      <td>HOUSE</td>\n",
       "      <td>VILLA</td>\n",
       "      <td>1650000.0</td>\n",
       "      <td>residential_sale</td>\n",
       "      <td>4.0</td>\n",
       "      <td>225.0</td>\n",
       "      <td>HYPER_EQUIPPED</td>\n",
       "      <td>NaN</td>\n",
       "      <td>False</td>\n",
       "      <td>True</td>\n",
       "      <td>Unknown</td>\n",
       "      <td>Unknown</td>\n",
       "      <td>Unknown</td>\n",
       "      <td>838.0</td>\n",
       "      <td>3</td>\n",
       "      <td>False</td>\n",
       "      <td>GOOD</td>\n",
       "      <td>14.316286</td>\n",
       "    </tr>\n",
       "    <tr>\n",
       "      <th>5745</th>\n",
       "      <td>5745</td>\n",
       "      <td>Uccle</td>\n",
       "      <td>HOUSE</td>\n",
       "      <td>VILLA</td>\n",
       "      <td>5500000.0</td>\n",
       "      <td>residential_sale</td>\n",
       "      <td>6.0</td>\n",
       "      <td>1173.0</td>\n",
       "      <td>HYPER_EQUIPPED</td>\n",
       "      <td>NaN</td>\n",
       "      <td>False</td>\n",
       "      <td>True</td>\n",
       "      <td>Unknown</td>\n",
       "      <td>Unknown</td>\n",
       "      <td>Unknown</td>\n",
       "      <td>5705.0</td>\n",
       "      <td>4</td>\n",
       "      <td>NaN</td>\n",
       "      <td>AS_NEW</td>\n",
       "      <td>15.520259</td>\n",
       "    </tr>\n",
       "    <tr>\n",
       "      <th>7882</th>\n",
       "      <td>7882</td>\n",
       "      <td>Oud-Turnhout</td>\n",
       "      <td>HOUSE</td>\n",
       "      <td>VILLA</td>\n",
       "      <td>2950000.0</td>\n",
       "      <td>residential_sale</td>\n",
       "      <td>5.0</td>\n",
       "      <td>475.0</td>\n",
       "      <td>Unknown</td>\n",
       "      <td>NaN</td>\n",
       "      <td>False</td>\n",
       "      <td>True</td>\n",
       "      <td>Unknown</td>\n",
       "      <td>Unknown</td>\n",
       "      <td>Unknown</td>\n",
       "      <td>4500.0</td>\n",
       "      <td>4</td>\n",
       "      <td>True</td>\n",
       "      <td>NaN</td>\n",
       "      <td>14.897316</td>\n",
       "    </tr>\n",
       "    <tr>\n",
       "      <th>3753</th>\n",
       "      <td>3753</td>\n",
       "      <td>Antwerp</td>\n",
       "      <td>HOUSE</td>\n",
       "      <td>HOUSE</td>\n",
       "      <td>2980000.0</td>\n",
       "      <td>residential_sale</td>\n",
       "      <td>4.0</td>\n",
       "      <td>631.0</td>\n",
       "      <td>USA_HYPER_EQUIPPED</td>\n",
       "      <td>NaN</td>\n",
       "      <td>False</td>\n",
       "      <td>Unknown</td>\n",
       "      <td>Unknown</td>\n",
       "      <td>Unknown</td>\n",
       "      <td>Unknown</td>\n",
       "      <td>378.0</td>\n",
       "      <td>2</td>\n",
       "      <td>False</td>\n",
       "      <td>GOOD</td>\n",
       "      <td>14.907434</td>\n",
       "    </tr>\n",
       "  </tbody>\n",
       "</table>\n",
       "</div>"
      ],
      "text/plain": [
       "      Unnamed: 0              Location Property type      Property subtype  \\\n",
       "4585        4585              Kapellen         HOUSE                 VILLA   \n",
       "472          472             Auderghem         HOUSE                 HOUSE   \n",
       "7938        7938                 Uccle         HOUSE                 HOUSE   \n",
       "7827        7827    Rhode-Saint-Genèse         HOUSE  EXCEPTIONAL_PROPERTY   \n",
       "9187        9187             Hoeilaart         HOUSE                 HOUSE   \n",
       "4055        4055                 Uccle         HOUSE                 HOUSE   \n",
       "3806        3806  Woluwe-Saint-Lambert         HOUSE                 HOUSE   \n",
       "3298        3298          Knokke-Heist         HOUSE                 HOUSE   \n",
       "5531        5531   Woluwe-Saint-Pierre         HOUSE  EXCEPTIONAL_PROPERTY   \n",
       "5630        5630                Deurle         HOUSE                 HOUSE   \n",
       "2583        2583              Mechelen         HOUSE                 HOUSE   \n",
       "8866        8866                  Gent         HOUSE       APARTMENT_BLOCK   \n",
       "5795        5795  Woluwe-Saint-Lambert         HOUSE                 HOUSE   \n",
       "1095        1095                Leuven         HOUSE       APARTMENT_BLOCK   \n",
       "4783        4783                 Tielt         HOUSE                 HOUSE   \n",
       "1795        1795                Leuven         HOUSE                 HOUSE   \n",
       "9814        9814          Knokke-Heist         HOUSE                 VILLA   \n",
       "5745        5745                 Uccle         HOUSE                 VILLA   \n",
       "7882        7882          Oud-Turnhout         HOUSE                 VILLA   \n",
       "3753        3753               Antwerp         HOUSE                 HOUSE   \n",
       "\n",
       "          Price      Type of sale  Number of bedrooms  Living area  \\\n",
       "4585   935000.0  residential_sale                 4.0        141.0   \n",
       "472    665000.0  residential_sale                 4.0        170.0   \n",
       "7938   399000.0  residential_sale                 3.0         88.0   \n",
       "7827  3250000.0  residential_sale                 5.0        545.0   \n",
       "9187   785000.0  residential_sale                 2.0        185.0   \n",
       "4055   685000.0  residential_sale                 4.0        170.0   \n",
       "3806   520000.0  residential_sale                 3.0        130.0   \n",
       "3298   795000.0  residential_sale                 3.0        170.0   \n",
       "5531  3380000.0  residential_sale                 7.0        600.0   \n",
       "5630   585000.0  residential_sale                 2.0        161.0   \n",
       "2583  1300000.0  residential_sale                 5.0        500.0   \n",
       "8866  1095000.0  residential_sale                 5.0        240.0   \n",
       "5795   830000.0  residential_sale                 4.0        180.0   \n",
       "1095   860000.0  residential_sale                 5.0        159.0   \n",
       "4783   395000.0  residential_sale                 2.0         81.0   \n",
       "1795  1940000.0  residential_sale                 8.0        295.0   \n",
       "9814  1650000.0  residential_sale                 4.0        225.0   \n",
       "5745  5500000.0  residential_sale                 6.0       1173.0   \n",
       "7882  2950000.0  residential_sale                 5.0        475.0   \n",
       "3753  2980000.0  residential_sale                 4.0        631.0   \n",
       "\n",
       "                 Kitchen Furnished  Open fireplace  Terrace  \\\n",
       "4585           INSTALLED     False           False     True   \n",
       "472            INSTALLED     False           False     True   \n",
       "7938       SEMI_EQUIPPED     False           False     True   \n",
       "7827  USA_HYPER_EQUIPPED       NaN           False     True   \n",
       "9187           INSTALLED     False           False     True   \n",
       "4055           INSTALLED       NaN           False     True   \n",
       "3806       USA_INSTALLED     False           False  Unknown   \n",
       "3298      HYPER_EQUIPPED     False           False     True   \n",
       "5531      HYPER_EQUIPPED     False           False     True   \n",
       "5630                 NaN     False           False     True   \n",
       "2583           INSTALLED     False            True     True   \n",
       "8866           INSTALLED     False           False  Unknown   \n",
       "5795      HYPER_EQUIPPED     False           False     True   \n",
       "1095             Unknown      True           False     True   \n",
       "4783           INSTALLED     False           False  Unknown   \n",
       "1795           INSTALLED      True           False     True   \n",
       "9814      HYPER_EQUIPPED       NaN           False     True   \n",
       "5745      HYPER_EQUIPPED       NaN           False     True   \n",
       "7882             Unknown       NaN           False     True   \n",
       "3753  USA_HYPER_EQUIPPED       NaN           False  Unknown   \n",
       "\n",
       "     Terrace orientation   Garden Garden orientation  Surface area land  \\\n",
       "4585             Unknown  Unknown            Unknown             6723.0   \n",
       "472              Unknown  Unknown            Unknown               90.0   \n",
       "7938             Unknown  Unknown            Unknown               53.0   \n",
       "7827             Unknown     True            Unknown             2003.0   \n",
       "9187             Unknown     True            Unknown              639.0   \n",
       "4055             Unknown  Unknown            Unknown              250.0   \n",
       "3806             Unknown  Unknown            Unknown              102.0   \n",
       "3298             Unknown  Unknown            Unknown              276.0   \n",
       "5531             Unknown  Unknown            Unknown             1390.0   \n",
       "5630             Unknown     True         SOUTH_EAST              645.0   \n",
       "2583             Unknown     True            Unknown              764.0   \n",
       "8866             Unknown  Unknown            Unknown               92.0   \n",
       "5795             Unknown     True            Unknown              133.0   \n",
       "1095             Unknown  Unknown            Unknown              140.0   \n",
       "4783             Unknown     True              NORTH              184.0   \n",
       "1795             Unknown  Unknown            Unknown               87.0   \n",
       "9814             Unknown  Unknown            Unknown              838.0   \n",
       "5745             Unknown  Unknown            Unknown             5705.0   \n",
       "7882             Unknown  Unknown            Unknown             4500.0   \n",
       "3753             Unknown  Unknown            Unknown              378.0   \n",
       "\n",
       "     Number of facades   Pool       Condition  Price_log  \n",
       "4585                 4   True     TO_RENOVATE  13.748302  \n",
       "472                  2    NaN             NaN  13.407542  \n",
       "7938                 2  False            GOOD  12.896717  \n",
       "7827                 4   True          AS_NEW  14.994166  \n",
       "9187                 4    NaN  JUST_RENOVATED  13.573439  \n",
       "4055                 3  False            GOOD  13.437174  \n",
       "3806                 2  False          AS_NEW  13.161584  \n",
       "3298                 2  False          AS_NEW  13.586097  \n",
       "5531                 4   True          AS_NEW  15.033386  \n",
       "5630                 3  False          AS_NEW  13.279367  \n",
       "2583                 2    NaN             NaN  14.077875  \n",
       "8866                 2  False          AS_NEW  13.906265  \n",
       "5795                 2  False            GOOD  13.629181  \n",
       "1095                 2    NaN          AS_NEW  13.664688  \n",
       "4783                 3  False            GOOD  12.886641  \n",
       "1795           Unknown  False         Unknown  14.478199  \n",
       "9814                 3  False            GOOD  14.316286  \n",
       "5745                 4    NaN          AS_NEW  15.520259  \n",
       "7882                 4   True             NaN  14.897316  \n",
       "3753                 2  False            GOOD  14.907434  "
      ]
     },
     "execution_count": 377,
     "metadata": {},
     "output_type": "execute_result"
    }
   ],
   "source": [
    "df.loc[worst_down.index]"
   ]
  },
  {
   "cell_type": "code",
   "execution_count": 370,
   "metadata": {},
   "outputs": [
    {
     "data": {
      "text/plain": [
       "array([237504.50799666, 260530.53934938, 259511.32594723, 502617.97506815,\n",
       "       332694.17880939, 439568.58529327, 316631.69805399, 352690.43687276,\n",
       "       248295.57118924, 253454.084718  ])"
      ]
     },
     "execution_count": 370,
     "metadata": {},
     "output_type": "execute_result"
    }
   ],
   "source": [
    "np.exp(best_model.predict(X_test.loc[worst.index]))"
   ]
  },
  {
   "cell_type": "code",
   "execution_count": null,
   "metadata": {},
   "outputs": [],
   "source": []
  }
 ],
 "metadata": {
  "interpreter": {
   "hash": "e2b367b03bb5c135fe7350452e1c705b26162f9ffb5b308c501535126183fde0"
  },
  "kernelspec": {
   "display_name": "Python 3.8.8 ('Eliza-env': venv)",
   "language": "python",
   "name": "python3"
  },
  "language_info": {
   "codemirror_mode": {
    "name": "ipython",
    "version": 3
   },
   "file_extension": ".py",
   "mimetype": "text/x-python",
   "name": "python",
   "nbconvert_exporter": "python",
   "pygments_lexer": "ipython3",
   "version": "3.8.8"
  },
  "orig_nbformat": 4
 },
 "nbformat": 4,
 "nbformat_minor": 2
}
